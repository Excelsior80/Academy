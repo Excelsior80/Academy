{
 "cells": [
  {
   "cell_type": "markdown",
   "id": "0a141aac-e415-49af-a0d1-f523dd6d2b6e",
   "metadata": {},
   "source": [
    "# Python Primer 2 What is compute\n",
    "\n",
    "## Computer Components\n",
    "### The Main ones\n",
    "You may well be aware of the constituent parts of a computer, that it has :\n",
    "- CPU : A central processing unit, that manipulates data, mathematically (it has something called an Arithmetic Logic Unit that is there to do exactly that)\n",
    "- RAM : Random Access Memory, somewhere that stores the data to be worked on, and the instructions on how to work on it. Temporarily (it stops doing that job when power is removed)\n",
    "- ROM : Read Only Memory, somewhere that stores the starting configuration of a system (sometimes referred to as BIOS)\n",
    "\n",
    "These are the fundamentals of a system that is going to do compute, without these components it's an ornament. Even so, consider this, what are these made of, it's plastic and metal, but it's built in such a way that it will physically respond to certain conditions. The metallic parts are built in such a way that they act as a switch, or rather many millions of switches, all hooked together so that they respond to the states, these being electrical, and currently the conditions are that either there is electricity here, or there is not electricity here, at any one time in those many millions of switches.\n",
    "\n",
    "\n",
    "### Others\n",
    "- DISK : Something to permanently store data and instructions on how to work on data (a program) \n",
    "- KEYBOARD : A means of inputting data (this could be something else, could a thermostat be a form of input?)\n",
    "- MONITOR : A means of displaying data ( this could be something else, could a heater control act on data sent to it?)\n",
    "\n",
    "\n"
   ]
  },
  {
   "cell_type": "markdown",
   "id": "4320bed8-18de-4740-8011-ff2be7908480",
   "metadata": {},
   "source": [
    "## What is the data\n",
    "As mentioned, the electrical circuits inside the CPU and memory (ROM and RAM) respond to electrical signals being there or not, thesae two states are termed often as binary and are represented :\n",
    "- Binary 0 - no voltage\n",
    "- Binary 1 - voltage\n",
    "\n",
    "In it's simplest form a computer does every single thing you know (games, word processing, modeling, music, video processing, communicating) entirely out of 1 and 0 and the manipulation of these at scale.\n",
    "\n"
   ]
  },
  {
   "cell_type": "markdown",
   "id": "9da78854",
   "metadata": {},
   "source": [
    "#### How is that useful\n",
    "The series if 1 and 0 that flow through the computer system at blistering speeds are nothing more than voltages until the system applies meaning to them. The series of 1 and 0 can be an instruction for the processor to do something, or it could be data that is to me worked on, or an address in memory where something is going to be stored. \n",
    "\n",
    "The instructions can be anything that the user wants the processor to do, add two sets of binary digits, subtract them, store them.... so on and so on. \n",
    "\n",
    "Clearly, trying to make a system do something by just feediong it 1's and 0's is possible but hardly practical. In order for things to get useful we implement something known as abstraction, that is we add a layer of processing or control, conceptually above the 1's and zero,s so that we have a more readable representation of the binary. In computer parlence, machine code is the first abstraction, assembly the second, C the third, and python a 4th.\n",
    "\n",
    "With each layer of abstraction, the control structures around the compute process become more human readable, however there is an overhead for each of those abstractions. \n"
   ]
  },
  {
   "cell_type": "markdown",
   "id": "e2b70848",
   "metadata": {},
   "source": [
    "### What is an exemple \n",
    "A good example would be traffic lights, they have sensors to detect cars, processing logic to determine what state everything is in, what it's future states should be. Consider the inputs and outputs of that system, the inputs would be the sensors, the time of day, a storage of historical operations, and a connectio to the lights to determine when to turn them on and off. The outputs would be connections to the the lights that are under the processor control. \n",
    "\n",
    "How that data input resolves itself to which swithces to turn on and off is a matter of a set of instructions that are executed against that data coming in from the external sources. \n",
    "\n",
    "Those instructions are a program. The execution of them is compute."
   ]
  },
  {
   "cell_type": "code",
   "execution_count": null,
   "id": "06948f35",
   "metadata": {},
   "outputs": [],
   "source": []
  }
 ],
 "metadata": {
  "kernelspec": {
   "display_name": "Python 3 (ipykernel)",
   "language": "python",
   "name": "python3"
  },
  "language_info": {
   "codemirror_mode": {
    "name": "ipython",
    "version": 3
   },
   "file_extension": ".py",
   "mimetype": "text/x-python",
   "name": "python",
   "nbconvert_exporter": "python",
   "pygments_lexer": "ipython3",
   "version": "3.9.7"
  }
 },
 "nbformat": 4,
 "nbformat_minor": 5
}
