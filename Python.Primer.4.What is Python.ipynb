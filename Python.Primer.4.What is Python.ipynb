{
 "cells": [
  {
   "cell_type": "markdown",
   "id": "c28c9dbc-2c90-4638-9844-8726352372e9",
   "metadata": {},
   "source": [
    "# Python Primer 4 - What is Python\n",
    "\n",
    "## Introduction\n",
    "In this workbook we will look at what Python is and some of the characteristics that make it useful.\n",
    "\n",
    "Python is very widely used, and with good reason, it is used where there are use cases that involve: \n",
    "\n",
    "- Machine learning \n",
    "- Data Analysis\n",
    "- Web development\n",
    "- Finance \n",
    "- Ethical hacking\n",
    "- Games development \n",
    "- Automation\n",
    "- Testing \n",
    "- Orchestration\n",
    "\n",
    "It's fair to say, anywhere that compute is required. There are many reasons why Python is so widely used:\n",
    "- Its free\n",
    "- Extremely flexible\n",
    "- Reasonably easy to come to terms with\n",
    "- Portable, it can be used on multiple different operating systems\n",
    "- Has different flavours for additional support (IronPython, JPython, CPython)\n",
    "\n"
   ]
  },
  {
   "cell_type": "markdown",
   "id": "cd1d2900-ff03-40a4-9ee0-bad02388feec",
   "metadata": {},
   "source": [
    "## Python as a programming language\n",
    "\n",
    "All programming languages have their nuances, their own way of ding things, Python is no different. As a programming language it tries to keep things as simple as possible, unlike other programming languages that isolate little bits of code using explicit characters, Python uses indentation and carriage return (new line) to define statements and blocks of code activity, we will see this next. \n",
    "\n",
    "It is a strongly typed language, which means the type of data that is being processed matters, which may seem a little confusing at first because, unlike other languages, it is a dynamically typed language, which means that something can change it's type accordingly.\n",
    "\n",
    "Python is pretty good at looking after it's memory usage, any processing needs something to process data and somehwere to store the data as well as the result of the processing. In other laower level languages, there is a requirement to manage this process explicitly, however in Python (and others) that requirement is managed by something known as Garbage collection that will free up memory if something that was there previously is no longer needed. \n",
    "\n",
    "Python can be extended by adding new modules, created in Python, or indeed created in a lower level language like C\n",
    "\n",
    "\n"
   ]
  },
  {
   "cell_type": "markdown",
   "id": "e64f62b1-658a-45fb-aaf2-3e29c725561a",
   "metadata": {},
   "source": [
    "## Anatomy of a program\n",
    "\n",
    "As mentioned earlier a python program is made up of several constructs that define how some data is processed\n",
    "\n",
    "Some elements are shown in the next cell review it and run the cell to see the response. We will cover the compnents of it later in the course."
   ]
  },
  {
   "cell_type": "code",
   "execution_count": 7,
   "id": "28aaba1c",
   "metadata": {
    "scrolled": true
   },
   "outputs": [
    {
     "name": "stdout",
     "output_type": "stream",
     "text": [
      "The result of this function is Hello you\n",
      "Help on function say_hello in module __main__:\n",
      "\n",
      "say_hello(name)\n",
      "    A simple function that prepends the word hello to a variable called name and outputs it to the standard output\n",
      "    name: string\n",
      "\n"
     ]
    }
   ],
   "source": [
    "# The text after a # in Python is a single line comment, it doesnt get processed, but is very useful\n",
    "\n",
    "\"\"\" Three quotation marks in Python \n",
    "means multiline commenting. This also is useful\"\"\"\n",
    "\n",
    "# Example of where multipline is useful, the following example documents a function: \n",
    "\n",
    "def say_hello(name): # This is a function, it takes a single parameter called name and prints it with hello before it\n",
    "    '''A simple function that prepends the word hello to a variable called name and outputs it to the standard output\n",
    "    name: string\n",
    "    '''\n",
    "    print(\"The result of this function is Hello \"+name)\n",
    "\n",
    "\n",
    "say_hello('you') # This calls say_hello() function and passes a value 'you' to that function\n",
    "\n",
    "help(say_hello) # this looks for that multi-line comment at the start of the function and prints it (helpful yes?)\n",
    "\n"
   ]
  },
  {
   "cell_type": "markdown",
   "id": "b9b47398-78d8-48c6-9537-d72757a01c26",
   "metadata": {},
   "source": [
    "## Anatomy of a Python Program\n",
    "\n",
    "Looking back at the code in that previous cell notice: \n",
    "- comments are prepended with # \n",
    "- multiline comments are declared by using triple quotations (either single or double)\n",
    "- There is a thing called a function that has a name and can take parameters\n",
    "- the end of a statement in Python is where there is a new line\n",
    "- blocks of code that belong to something, like the code that is called with say_hello() are indented\n",
    "\n",
    "#### more usefulness\n",
    "REview the following cell and again run it, notice what happens. Again you are not expected to understand this."
   ]
  },
  {
   "cell_type": "code",
   "execution_count": 8,
   "id": "1f0f57a3",
   "metadata": {},
   "outputs": [
    {
     "name": "stdout",
     "output_type": "stream",
     "text": [
      "How many hours worked? 1\n",
      "Your gross pay is  10.0\n"
     ]
    }
   ],
   "source": [
    "#!/usr/bin/python    <this is only required if it is being run on a Linux OS, otherwise it's not needed for windows\n",
    "\n",
    "# a comment, again\n",
    "\n",
    "salary = 0.0 # This is an assignment of a data type with a value to a space in memory called salary this is a variable\n",
    "hours_worked = 0 # This is as for above but it is a different data type \n",
    "hourly_rate = 10.0 # This is another variable \n",
    "\n",
    "hours_worked = int(input(\"How many hours worked? \")) \n",
    "''' That last line is several things, its a function to get a user input \n",
    " the result of which is passed as a parameter to another function\n",
    " who's job it is to convert that to a whole number (integer)\n",
    " before storing it into a space in memory caled hours_worked '''\n",
    "\n",
    "if hours_worked * hourly_rate > 0:   #This is a conditional statment, if something then do a thing or do another thing if its not\n",
    "    salary = hours_worked * hourly_rate\n",
    "    print(\"Your gross pay is \", salary) # print is a  funnction and it is beiong handed ntwo parameters a string and salary\n",
    "else:\n",
    "    print(\"You must enter your hours worked first\")\n",
    "          "
   ]
  },
  {
   "cell_type": "code",
   "execution_count": null,
   "id": "33e62a6c",
   "metadata": {},
   "outputs": [],
   "source": []
  }
 ],
 "metadata": {
  "kernelspec": {
   "display_name": "Python 3 (ipykernel)",
   "language": "python",
   "name": "python3"
  },
  "language_info": {
   "codemirror_mode": {
    "name": "ipython",
    "version": 3
   },
   "file_extension": ".py",
   "mimetype": "text/x-python",
   "name": "python",
   "nbconvert_exporter": "python",
   "pygments_lexer": "ipython3",
   "version": "3.9.7"
  }
 },
 "nbformat": 4,
 "nbformat_minor": 5
}
