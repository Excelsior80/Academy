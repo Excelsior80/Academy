{
 "cells": [
  {
   "cell_type": "markdown",
   "id": "c28c9dbc-2c90-4638-9844-8726352372e9",
   "metadata": {},
   "source": [
    "# Python Primer 4 - What is Python\n",
    "\n",
    "## Introduction\n",
    "In this workbook we will look at what Python is and some of the characteristics that make it useful.\n"
   ]
  },
  {
   "cell_type": "markdown",
   "id": "cd1d2900-ff03-40a4-9ee0-bad02388feec",
   "metadata": {},
   "source": [
    "## Python as a programming language"
   ]
  },
  {
   "cell_type": "markdown",
   "id": "e64f62b1-658a-45fb-aaf2-3e29c725561a",
   "metadata": {},
   "source": [
    "## Anatomy of a program"
   ]
  },
  {
   "cell_type": "markdown",
   "id": "b9b47398-78d8-48c6-9537-d72757a01c26",
   "metadata": {},
   "source": [
    "## Anatomy of a Python Program"
   ]
  },
  {
   "cell_type": "markdown",
   "id": "b6b7083e-3ab7-470b-90a8-805a0977cda8",
   "metadata": {},
   "source": [
    "## Using Python interactively"
   ]
  },
  {
   "cell_type": "markdown",
   "id": "a5ad9dfb-da7e-4c71-8b5b-4f024d8de3ae",
   "metadata": {},
   "source": []
  }
 ],
 "metadata": {
  "kernelspec": {
   "display_name": "anaconda-2022.05-py39",
   "language": "python",
   "name": "conda-env-anaconda-2022.05-py39-py"
  },
  "language_info": {
   "codemirror_mode": {
    "name": "ipython",
    "version": 3
   },
   "file_extension": ".py",
   "mimetype": "text/x-python",
   "name": "python",
   "nbconvert_exporter": "python",
   "pygments_lexer": "ipython3",
   "version": "3.9.12"
  }
 },
 "nbformat": 4,
 "nbformat_minor": 5
}
