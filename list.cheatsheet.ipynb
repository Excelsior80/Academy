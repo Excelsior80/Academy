{
 "cells": [
  {
   "cell_type": "markdown",
   "id": "82de79aa",
   "metadata": {},
   "source": [
    "# List Cheat sheet\n",
    "The following is a list of functionalities that the list container can do, it's not exhaustive but it's a good start:"
   ]
  },
  {
   "cell_type": "code",
   "execution_count": 1,
   "id": "d1e7cf0b",
   "metadata": {},
   "outputs": [],
   "source": [
    "my_list = [\"Cherry\", \"Apple\"]"
   ]
  },
  {
   "cell_type": "code",
   "execution_count": 2,
   "id": "eb2dc9f5",
   "metadata": {},
   "outputs": [
    {
     "name": "stdout",
     "output_type": "stream",
     "text": [
      "the initial list ['Cherry', 'Apple']\n"
     ]
    }
   ],
   "source": [
    "print(f\"the initial list {my_list}\")"
   ]
  },
  {
   "cell_type": "code",
   "execution_count": 4,
   "id": "750840ce",
   "metadata": {},
   "outputs": [
    {
     "name": "stdout",
     "output_type": "stream",
     "text": [
      "adding a pear ['Cherry', 'Apple', 'Pear', 'Pear']\n"
     ]
    }
   ],
   "source": [
    "# Add an item to the list\n",
    "my_list.append(\"Pear\")\n",
    "\n",
    "print(f\"adding a pear {my_list}\")"
   ]
  },
  {
   "cell_type": "code",
   "execution_count": 5,
   "id": "390e4607",
   "metadata": {},
   "outputs": [
    {
     "name": "stdout",
     "output_type": "stream",
     "text": [
      "The first item in the list is Cherry\n"
     ]
    }
   ],
   "source": [
    "# get the first Item\n",
    "print(f\"The first item in the list is {my_list[0]}\")\n"
   ]
  },
  {
   "cell_type": "code",
   "execution_count": 6,
   "id": "a73fc461",
   "metadata": {},
   "outputs": [
    {
     "name": "stdout",
     "output_type": "stream",
     "text": [
      "The last item in the list is Pear\n"
     ]
    }
   ],
   "source": [
    "# print the last item in the list\n",
    "print(f\"The last item in the list is {my_list[-1]}\")"
   ]
  },
  {
   "cell_type": "code",
   "execution_count": 7,
   "id": "cfcb6a7e",
   "metadata": {},
   "outputs": [
    {
     "name": "stdout",
     "output_type": "stream",
     "text": [
      "the current list ['Cherry', 'Apple', 'Pear', 'Pear']\n",
      "get the second item :Apple\n",
      "The new list ['Cherry', 'Pear', 'Pear']\n"
     ]
    }
   ],
   "source": [
    "# remove to assignment from list\n",
    "print(f\"the current list {my_list}\")\n",
    "print(f\"get the second item :{my_list.pop(1)}\")\n",
    "print(f\"The new list {my_list}\")\n"
   ]
  },
  {
   "cell_type": "code",
   "execution_count": 8,
   "id": "40b1f070",
   "metadata": {},
   "outputs": [],
   "source": [
    "# additional list \n",
    "additional_list = [\"pineapple\", \"coconut\", \"lemon\"]"
   ]
  },
  {
   "cell_type": "code",
   "execution_count": 9,
   "id": "fcaf38a8",
   "metadata": {},
   "outputs": [
    {
     "name": "stdout",
     "output_type": "stream",
     "text": [
      "initial list ['Cherry', 'Pear', 'Pear']\n"
     ]
    }
   ],
   "source": [
    "# add one list to another to the right\n",
    "print(f\"initial list {my_list}\")\n",
    "\n",
    "my_list.extend(additional_list)\n",
    "print(f\"The updated list {my_list}\")\n"
   ]
  },
  {
   "cell_type": "code",
   "execution_count": 10,
   "id": "cd94dbdd",
   "metadata": {},
   "outputs": [
    {
     "name": "stdout",
     "output_type": "stream",
     "text": [
      "added to the left ['avocado', 'grapes', 'Cherry', 'Pear', 'Pear']\n"
     ]
    }
   ],
   "source": [
    "# add to the left\n",
    "my_list[:0] = ['avocado', 'grapes']\n",
    "print(f\"added to the left {my_list}\")"
   ]
  },
  {
   "cell_type": "code",
   "execution_count": 11,
   "id": "0aeb4d68",
   "metadata": {},
   "outputs": [
    {
     "name": "stdout",
     "output_type": "stream",
     "text": [
      "Added strawberry to position 4 : ['avocado', 'grapes', 'Cherry', 'strawberry', 'Pear', 'Pear']\n"
     ]
    }
   ],
   "source": [
    "# insert one somewhere\n",
    "my_list.insert(3, \"strawberry\")\n",
    "print(f\"Added strawberry to position 4 : {my_list}\")"
   ]
  },
  {
   "cell_type": "code",
   "execution_count": 12,
   "id": "e83ba18d",
   "metadata": {},
   "outputs": [
    {
     "name": "stdout",
     "output_type": "stream",
     "text": [
      "a fruit is : avocado\n",
      "a fruit is : grapes\n",
      "a fruit is : Cherry\n",
      "a fruit is : strawberry\n",
      "a fruit is : Pear\n",
      "a fruit is : Pear\n"
     ]
    }
   ],
   "source": [
    "# iterate over a list\n",
    "for fruit in my_list:\n",
    "    print(f\"a fruit is : {fruit}\")"
   ]
  },
  {
   "cell_type": "code",
   "execution_count": 13,
   "id": "c16327dc",
   "metadata": {},
   "outputs": [
    {
     "name": "stdout",
     "output_type": "stream",
     "text": [
      "unsorted list is ['avocado', 'grapes', 'Cherry', 'strawberry', 'Pear', 'Pear']\n",
      "sorted list is ['Cherry', 'Pear', 'Pear', 'avocado', 'grapes', 'strawberry']\n",
      "Sorting can also be done with lambda functions\n",
      "['Pear', 'Pear', 'grapes', 'Cherry', 'avocado', 'strawberry']\n"
     ]
    }
   ],
   "source": [
    "# sort the list\n",
    "print(f\"unsorted list is {my_list}\")\n",
    "\n",
    "print(f\"sorted list is {sorted(my_list)}\")\n",
    "# can you determine the sort that was used\n",
    "\n",
    "print(\"Sorting can also be done with lambda functions\")\n",
    "my_list.sort(key = lambda fruit : len(fruit))\n",
    "print(my_list)"
   ]
  },
  {
   "cell_type": "code",
   "execution_count": 14,
   "id": "fb204042",
   "metadata": {},
   "outputs": [
    {
     "name": "stdout",
     "output_type": "stream",
     "text": [
      "is there a banana in there False\n",
      "Is there NO banana in there True\n"
     ]
    }
   ],
   "source": [
    "# Methods that come with lists\n",
    "print(f\"is there a banana in there {'banana' in my_list}\")\n",
    "print(f\"Is there NO banana in there {'banana' not in my_list}\")"
   ]
  },
  {
   "cell_type": "code",
   "execution_count": 15,
   "id": "fd16ea5e",
   "metadata": {},
   "outputs": [
    {
     "name": "stdout",
     "output_type": "stream",
     "text": [
      "Can look at lists to get information out \n",
      "there are 6 fruits in the list, there is 1 strawberry(s) in there and can be found at index 5\n"
     ]
    }
   ],
   "source": [
    "#finding things in there\n",
    "print(\"Can look at lists to get information out \")\n",
    "print(f\"there are {len(my_list)} fruits in the list, there is \"\n",
    "      f\"{my_list.count('strawberry')} strawberry(s) in there and can be found at index {my_list.index('strawberry')}\")"
   ]
  },
  {
   "cell_type": "code",
   "execution_count": 16,
   "id": "446693fc",
   "metadata": {},
   "outputs": [
    {
     "name": "stdout",
     "output_type": "stream",
     "text": [
      "using a for loop to pass to a square operation \n",
      "The squared list is [1, 4, 9, 16, 25, 36, 49, 64, 81, 100]\n"
     ]
    }
   ],
   "source": [
    "# Syntax for list comprehension\n",
    "# newlist = [expression for item in iterable if condition == True]\n",
    "\n",
    "# The following uses the for loop and squares the value and loads it into a new list\n",
    "print(\"using a for loop to pass to a square operation \")\n",
    "squared_list = [num ** 2 for num in range(1, 11)]\n",
    "print(f\"The squared list is {squared_list}\")"
   ]
  },
  {
   "cell_type": "code",
   "execution_count": 17,
   "id": "db0b2ade",
   "metadata": {},
   "outputs": [
    {
     "name": "stdout",
     "output_type": "stream",
     "text": [
      "Getting the even values from the list [4, 16, 36, 64, 100]\n"
     ]
    }
   ],
   "source": [
    "# using filter with list comprehension given a list of numbers make a new list of evens\n",
    "\n",
    "just_evens = [value for value in squared_list if value % 2 == 0]\n",
    "print(f\"Getting the even values from the list {just_evens}\")"
   ]
  },
  {
   "cell_type": "code",
   "execution_count": 18,
   "id": "5355f64e",
   "metadata": {},
   "outputs": [
    {
     "name": "stdout",
     "output_type": "stream",
     "text": [
      "Looking at the change on the first element tasty Pear\n"
     ]
    }
   ],
   "source": [
    "#Concatonating strings being passed from a loop\n",
    "my_list = ['tasty ' + fruit for fruit in my_list]\n",
    "print(f\"Looking at the change on the first element {my_list[0]}\")"
   ]
  },
  {
   "cell_type": "code",
   "execution_count": 19,
   "id": "9ef71069",
   "metadata": {},
   "outputs": [
    {
     "name": "stdout",
     "output_type": "stream",
     "text": [
      "original list ['tasty Pear', 'tasty Pear', 'tasty grapes', 'tasty Cherry', 'tasty avocado', 'tasty strawberry']\n",
      "slicing , the original is to return a value at index: tasty Pear\n",
      "my_list[1:2] :['tasty Pear']\n",
      "my_list[0:3:2] :['tasty Pear', 'tasty grapes']\n",
      "my_list[0:4:2 : ['tasty Pear', 'tasty grapes']\n",
      "my_list[0:5:2 : ['tasty Pear', 'tasty grapes', 'tasty avocado']\n",
      "my_list[::-1] :['tasty strawberry', 'tasty avocado', 'tasty Cherry', 'tasty grapes', 'tasty Pear', 'tasty Pear']\n",
      "my_list[::-2] :['tasty strawberry', 'tasty Cherry', 'tasty Pear']\n"
     ]
    }
   ],
   "source": [
    "#slicing\n",
    "print(f\"original list {my_list}\")\n",
    "print(f\"slicing , the original is to return a value at index: {my_list[0]}\")\n",
    "print(f\"my_list[1:2] :{my_list[1:2]}\")\n",
    "print(f\"my_list[0:3:2] :{my_list[0:3:2]}\")\n",
    "print(f\"my_list[0:4:2 : {my_list[0:4:2]}\")\n",
    "print(f\"my_list[0:5:2 : {my_list[0:5:2]}\")\n",
    "print(f\"my_list[::-1] :{my_list[::-1]}\")\n",
    "print(f\"my_list[::-2] :{my_list[::-2]}\")"
   ]
  },
  {
   "cell_type": "code",
   "execution_count": 20,
   "id": "802e479e",
   "metadata": {},
   "outputs": [
    {
     "name": "stdout",
     "output_type": "stream",
     "text": [
      "using maps with list \n",
      "the list of strings to convert : ['1', '4', '55', '7', '888', '9']\n",
      "the resultant of the map operation, converted back to list : [1, 4, 55, 7, 888, 9]\n"
     ]
    }
   ],
   "source": [
    "#Using map with list\n",
    "print(\"using maps with list \")\n",
    "string_list = ['1','4','55', '7', '888', '9']\n",
    "print(f\"the list of strings to convert : {string_list}\")\n",
    "numbers_list = list(map(int, string_list))\n",
    "print(f\"the resultant of the map operation, converted back to list : {numbers_list}\")"
   ]
  },
  {
   "cell_type": "code",
   "execution_count": null,
   "id": "ee10debb",
   "metadata": {},
   "outputs": [],
   "source": []
  }
 ],
 "metadata": {
  "kernelspec": {
   "display_name": "Python 3 (ipykernel)",
   "language": "python",
   "name": "python3"
  },
  "language_info": {
   "codemirror_mode": {
    "name": "ipython",
    "version": 3
   },
   "file_extension": ".py",
   "mimetype": "text/x-python",
   "name": "python",
   "nbconvert_exporter": "python",
   "pygments_lexer": "ipython3",
   "version": "3.9.7"
  }
 },
 "nbformat": 4,
 "nbformat_minor": 5
}
