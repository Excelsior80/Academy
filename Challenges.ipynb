{
 "cells": [
  {
   "cell_type": "markdown",
   "id": "24bccdaa",
   "metadata": {},
   "source": [
    "# Challenges\n",
    "\n",
    "## Introduction\n",
    "The following challenges are designed to enable all levels to work at their own pace and at the level they are at. It is of use that different people will answer these in different ways. The idea is to first of all complete the question and then see if there are optimisations that can be implemented. \n",
    "\n",
    "## Suggested approach\n",
    "\n",
    "Consider the problem, break it down into small units of activity and mark them as comments in the code, then implement the activities to solve the solution. \n",
    "\n",
    "The following table suggests levels you can work to. It's not explicit that you do it this way but honestly, if you don't start this with the idea that you should advance, then you are what is known as walking technical debt and you will be expensive.\n",
    "\n",
    "| Level          | Approach                     | Outcome                                                                 |\n",
    "|----------------|------------------------------|-------------------------------------------------------------------------|\n",
    "| Entry          | MVP : Minimum viable Produce | The question is solved using basic constructs                           |\n",
    "| Basic          | Refactoring                  | The code produced in the MVP is refactored for readability              |\n",
    "| Intermediate   | Modular                      | The code is in functions and modular                                    |\n",
    "| Intermediate + | Documented                   | Code is documented                                                      |\n",
    "| Advanced       | Code was written using TDD   | There is a test suite that supports the solution that was written first |\n",
    "| Advanced +     | Qualified opntimisation      | Solution has performance metrics to show optimisation quality           |"
   ]
  },
  {
   "cell_type": "markdown",
   "id": "38aeba63",
   "metadata": {},
   "source": [
    "### Warmup Challenge\n",
    "\n",
    "#### Multiples 3 and 5\n",
    "##### Problem statement:\n",
    "The requirement is to get the sum of all numbers below 1000 that are multiples of either 3 or 5\n",
    "\n",
    "##### GWT statement \n",
    "- Given an integer range between 1 and 1000\n",
    "- When it is processed to find those integers that are multiples of 3 or 5\n",
    "- Then the result shall be the sum of those integers\n",
    "\n"
   ]
  },
  {
   "cell_type": "code",
   "execution_count": 1,
   "id": "34d99351",
   "metadata": {},
   "outputs": [],
   "source": [
    "# your code here\n"
   ]
  },
  {
   "cell_type": "markdown",
   "id": "5c655bb3",
   "metadata": {},
   "source": [
    "#### Name scores\n",
    "\n",
    "#### Problem statement: \n",
    "\n",
    "The requirement is to ge the nams from a file (names.txt) sort the names alphabeltically, then find the alphabetical value of the name, that is to say the sum of the positions which the letter appears in the alphaet (A = 1, B = 2, C = 3 ........ Z = 26)\n",
    "\n",
    "eg COLIN = 3 + 15 + 9 + 14 = 53\n",
    "\n",
    "multiply that number by its position in the list, COLIN is at 938 in the list so 53 * 938 and sum them all to find the figure\n",
    "\n",
    "##### GWT statement \n",
    "- Given a list of names in a file\n",
    "- When it is ordered alphabetically and each name given a value according to it's alphabetic number multiplied by its position in the list\n",
    "- Then the result shall be the sum of those values\n",
    "\n",
    "\n",
    "\n"
   ]
  },
  {
   "cell_type": "code",
   "execution_count": 2,
   "id": "77ff5bbd",
   "metadata": {},
   "outputs": [],
   "source": [
    "# refer to slides for loading the file called names.txt in READ mode \n"
   ]
  },
  {
   "cell_type": "markdown",
   "id": "3fed562d",
   "metadata": {},
   "source": [
    "### Coin sums\n",
    "\n",
    "In the UK the currency is made up of punds and pence where 100 pence equates to a pound. The coins in circulation are currently : \n",
    "1p, 2p, 5p, 10p, 20p, 50p, £1, £2\n",
    "\n",
    "#### Problem statement \n",
    "The requirement is to determine how many combinations of the coins available in circulation that total a £2 value\n",
    "\n",
    "#### GWT statement\n",
    "- Given a set of coins in UK circulation 1p, 2p, 5p, 10p, 20p, 50p, £1, £2\n",
    "- When combinations of those coins are used to sum £2 \n",
    "- Then the result shall be the sum of the combinations\n",
    "\n"
   ]
  },
  {
   "cell_type": "code",
   "execution_count": 7,
   "id": "add4eda4",
   "metadata": {},
   "outputs": [],
   "source": [
    "# your code here\n"
   ]
  },
  {
   "cell_type": "code",
   "execution_count": null,
   "id": "1c7ebab9",
   "metadata": {},
   "outputs": [],
   "source": []
  }
 ],
 "metadata": {
  "kernelspec": {
   "display_name": "Python 3 (ipykernel)",
   "language": "python",
   "name": "python3"
  },
  "language_info": {
   "codemirror_mode": {
    "name": "ipython",
    "version": 3
   },
   "file_extension": ".py",
   "mimetype": "text/x-python",
   "name": "python",
   "nbconvert_exporter": "python",
   "pygments_lexer": "ipython3",
   "version": "3.9.7"
  }
 },
 "nbformat": 4,
 "nbformat_minor": 5
}
