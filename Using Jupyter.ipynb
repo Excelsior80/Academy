{
 "cells": [
  {
   "cell_type": "markdown",
   "id": "a5d71305",
   "metadata": {},
   "source": [
    "# What is Jupyter\n",
    "\n",
    "Welcome to the Jupyter short tutorial. If you can see this then the system has started up correctly\n",
    "\n",
    "The original intent of a Jupyter notebook is as a tool for interactively developing and presenting data science projects.\n",
    "\n",
    "In our context though, the 'notebooks' are being used as live training documents.\n",
    "\n",
    "## what is a “notebook”?\n",
    "\n",
    "A notebook integrates python code, text and code outputs into a single document that could combine visualizations, narrative text, mathematical equations, and other rich media. \n",
    "\n",
    "Or, in other words, it's a single document where you can run code, display the output, and also add explanations, formulas, charts, and make your work more transparent, understandable, repeatable, and shareable.\n",
    "\n",
    "### our notebooks\n",
    "For the purposes of this course, our notebooks are listed in the academy programming folder. For someone who is entering into the world of coding, the Python.Primer notebooks cover the basics that are also expressed in the course slides. There are also challenge notebooks and cheat sheet notebooks for reference, feel free to explore them \n",
    "\n",
    "## Notebook interface\n",
    "\n",
    "A notebook is essentially an advanced word processor. THis content that you are reading now is stored in a cell. A cell is an area in the notebook that contains either code or text, where the text is expressed in markdown. It's not the intent of this course to teach you notebook operations in depth, there is a host of online resources for that. For now though note that cells contain content and they can be 'run' to execute that content, the result of running a cell that has code is output after the cell when it is run. Lets try that. Below is a cell that currently has one command in it but it is commented out. delete the # and click the run button above. Watch what happens"
   ]
  },
  {
   "cell_type": "code",
   "execution_count": 1,
   "id": "4f6088a9",
   "metadata": {},
   "outputs": [
    {
     "name": "stdout",
     "output_type": "stream",
     "text": [
      "This happened and here is the result of it\n"
     ]
    }
   ],
   "source": [
    "print('This happened and here is the result of it')"
   ]
  },
  {
   "cell_type": "markdown",
   "id": "1c0e002e",
   "metadata": {},
   "source": [
    "Notice that the format of the text changed when you deleted the #, the # sign is an indication to the kernel that the text following it is a comment and should not be processed as code. When the # was removed the kernel then understood it as something to execute. Hopefully when you ran the cell the result was that the content in the '' was output. \n",
    "\n",
    "Notice also that  In [ ] to the left of the cell changed to In [1]. Any other cells run will have a higher value,  this is not present for cells that only contain markdown, such as this one."
   ]
  },
  {
   "cell_type": "markdown",
   "id": "9a7d424b",
   "metadata": {},
   "source": [
    "## What just happened\n",
    "When you ran the code cell the kernel (the thing that will process the command it is given) attempted to execute the instruction. A cell can contain more than one instruction. \n",
    "\n",
    "Lets see this in action, the following two lines, when the cell is run, will ask the user for an input and then print what was typed into the output. \n",
    "\n",
    "this is using two python commands 'input' and 'print'\n",
    "\n",
    "the way a python interpreter works is that it will read and execute, line by line, the instructions in the cell.\n",
    "\n",
    "Notice also that when the cell is run, where the input is supposed to occur, notice also that you will need to put data into the space indicated and press enter to send that data into the kernel"
   ]
  },
  {
   "cell_type": "code",
   "execution_count": 2,
   "id": "53d55b67",
   "metadata": {},
   "outputs": [
    {
     "name": "stdout",
     "output_type": "stream",
     "text": [
      "What is your name phil\n",
      "Well hi there phil\n"
     ]
    }
   ],
   "source": [
    "name = input(\"What is your name \")\n",
    "print(\"Well hi there\", name)"
   ]
  },
  {
   "cell_type": "markdown",
   "id": "5bfbfcb8",
   "metadata": {},
   "source": [
    "### What just happened\n",
    "the two lines of code in the cell were run one after the other, the first command was a request for data, which will go to memory or rather a memory space I called name (Don't worry this is all in the primer sheets)\n",
    "A second line was then run which output some text and  the value of the data you put into the space I called name. "
   ]
  },
  {
   "cell_type": "code",
   "execution_count": null,
   "id": "e860bf03",
   "metadata": {},
   "outputs": [],
   "source": []
  }
 ],
 "metadata": {
  "kernelspec": {
   "display_name": "Python 3 (ipykernel)",
   "language": "python",
   "name": "python3"
  },
  "language_info": {
   "codemirror_mode": {
    "name": "ipython",
    "version": 3
   },
   "file_extension": ".py",
   "mimetype": "text/x-python",
   "name": "python",
   "nbconvert_exporter": "python",
   "pygments_lexer": "ipython3",
   "version": "3.9.7"
  }
 },
 "nbformat": 4,
 "nbformat_minor": 5
}
