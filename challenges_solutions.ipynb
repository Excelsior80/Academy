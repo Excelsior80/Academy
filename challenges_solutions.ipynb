{
 "cells": [
  {
   "cell_type": "markdown",
   "id": "f64a540e",
   "metadata": {},
   "source": [
    "# Challenges\n",
    "\n",
    "## Introduction\n",
    "The following challenges are designed to enable all levels to work at their own pace and at the level they are at. It is of use that different people will answer these in different ways. The idea is to first of all complete the question and then see if there are optimisations that can be implemented. \n",
    "\n",
    "## Suggested approach\n",
    "\n",
    "Consider the problem, break it down into small units of activity and mark them as comments in the code, then implement the activities to solve the solution. \n",
    "\n",
    "The following table suggests levels you can work to. It's not explicit that you do it this way but honestly, if you don't start this with the idea that you should advance, then you are what is known as walking technical debt and you will be expensive.\n",
    "\n",
    "| Level          | Approach                     | Outcome                                                                 |\n",
    "|----------------|------------------------------|-------------------------------------------------------------------------|\n",
    "| Entry          | MVP : Minimum viable Produce | The question is solved using basic constructs                           |\n",
    "| Basic          | Refactoring                  | The code produced in the MVP is refactored for readability              |\n",
    "| Intermediate   | Modular                      | The code is in functions and modular                                    |\n",
    "| Intermediate + | Documented                   | Code is documented                                                      |\n",
    "| Advanced       | Code was written using TDD   | There is a test suite that supports the solution that was written first |\n",
    "| Advanced +     | Qualified opntimisation      | Solution has performance metrics to show optimisation quality           |"
   ]
  },
  {
   "cell_type": "markdown",
   "id": "57b08c79",
   "metadata": {},
   "source": [
    "### Warmup Challenge\n",
    "\n",
    "#### Multiples 3 and 5\n",
    "##### Problem statement:\n",
    "The requirement is to get the sum of all numbers below 1000 that are multiples of either 3 or 5\n",
    "\n",
    "##### GWT statement \n",
    "- Given an integer range between 1 and 1000\n",
    "- When it is processed to find those integers that are multiples of 3 or 5\n",
    "- Then the result shall be the sum of those integers\n",
    "\n"
   ]
  },
  {
   "cell_type": "code",
   "execution_count": 8,
   "id": "196a515a",
   "metadata": {},
   "outputs": [
    {
     "data": {
      "text/plain": [
       "233333333166666668"
      ]
     },
     "execution_count": 8,
     "metadata": {},
     "output_type": "execute_result"
    }
   ],
   "source": [
    "# your code here\n",
    "def get_range(max_value):\n",
    "    values = [val for val in range(max_value) if val%3 == 0 or val%5 == 0]\n",
    "    return values\n",
    "\n",
    "summed_values = sum(get_range(1000000000))\n",
    "summed_values"
   ]
  },
  {
   "cell_type": "markdown",
   "id": "18a50777",
   "metadata": {},
   "source": [
    "#### Name scores\n",
    "\n",
    "#### Problem statement: \n",
    "\n",
    "The requirement is to ge the nams from a file (names.txt) sort the names alphabeltically, then find the alphabetical value of the name, that is to say the sum of the positions which the letter appears in the alphaet (A = 1, B = 2, C = 3 ........ Z = 26)\n",
    "\n",
    "eg COLIN = 3 + 15 + 9 + 14 = 53\n",
    "\n",
    "multiply that number by its position in the list, COLIN is at 938 in the list so 53 * 938 and sum them all to find the figure\n",
    "\n",
    "##### GWT statement \n",
    "- Given a list of names in a file\n",
    "- When it is ordered alphabetically and each name given a value according to it's alphabetic number multiplied by its position in the list\n",
    "- Then the result shall be the sum of those values\n",
    "\n",
    "\n",
    "\n"
   ]
  },
  {
   "cell_type": "code",
   "execution_count": 63,
   "id": "8dcba80b",
   "metadata": {},
   "outputs": [
    {
     "name": "stdout",
     "output_type": "stream",
     "text": [
      "870821383\n"
     ]
    }
   ],
   "source": [
    "# refer to slides for loading the file called names.txt in READ mode \n",
    "import string\n",
    "\n",
    "def load_names(file):\n",
    "    dataset = []\n",
    "\n",
    "    with open(file, 'r', encoding = 'utf-8') as names:\n",
    "        for element in names.readline().split(\",\"):\n",
    "            dataset.append(element.strip('\"'))\n",
    "\n",
    "    return dataset\n",
    "\n",
    "def order_list(unordered_list):\n",
    "    unordered_list.sort()\n",
    "    return unordered_list\n",
    "\n",
    "def get_alpha_value(word): \n",
    "    alphabet = string.ascii_lowercase\n",
    "    return sum([ord(char)-96 if char in alphabet else char for char in word.lower()])\n",
    "\n",
    "dataset = load_names('names.txt')\n",
    "dataset = order_list(dataset)\n",
    "word_values = [{'index': index, 'word' : dataset[index -1], 'wordvalue' : get_alpha_value(dataset[index -1]), 'value' : index * get_alpha_value(dataset[index -1])} for index in range(1,len(dataset))]\n",
    "\n",
    "total = sum(d.get('value', 0) for d in word_values)\n",
    "\n",
    "print(total)\n",
    " "
   ]
  },
  {
   "cell_type": "markdown",
   "id": "1f986658",
   "metadata": {},
   "source": [
    "### Coin sums\n",
    "\n",
    "In the UK the currency is made up of punds and pence where 100 pence equates to a pound. The coins in circulation are currently : \n",
    "1p, 2p, 5p, 10p, 20p, 50p, £1, £2\n",
    "\n",
    "#### Problem statement \n",
    "The requirement is to determine how many combinations of the coins available in circulation that total a £2 value\n",
    "\n",
    "#### GWT statement\n",
    "- Given a set of coins in UK circulation 1p, 2p, 5p, 10p, 20p, 50p, £1, £2\n",
    "- When combinations of those coins are used to sum £2 \n",
    "- Then the result shall be the sum of the combinations\n",
    "\n"
   ]
  },
  {
   "cell_type": "code",
   "execution_count": 7,
   "id": "92bb46a2",
   "metadata": {},
   "outputs": [],
   "source": [
    "# your code here\n"
   ]
  },
  {
   "cell_type": "code",
   "execution_count": null,
   "id": "4fb7a857",
   "metadata": {},
   "outputs": [],
   "source": []
  }
 ],
 "metadata": {
  "kernelspec": {
   "display_name": "Python 3 (ipykernel)",
   "language": "python",
   "name": "python3"
  },
  "language_info": {
   "codemirror_mode": {
    "name": "ipython",
    "version": 3
   },
   "file_extension": ".py",
   "mimetype": "text/x-python",
   "name": "python",
   "nbconvert_exporter": "python",
   "pygments_lexer": "ipython3",
   "version": "3.9.7"
  }
 },
 "nbformat": 4,
 "nbformat_minor": 5
}
