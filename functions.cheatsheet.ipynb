{
 "cells": [
  {
   "cell_type": "markdown",
   "id": "43cd004a",
   "metadata": {},
   "source": [
    "# Functions cheatsheet\n",
    "\n",
    "The following cells show some of the implementations of functions"
   ]
  },
  {
   "cell_type": "code",
   "execution_count": 1,
   "id": "10253e44",
   "metadata": {},
   "outputs": [],
   "source": [
    "def a_function():\n",
    "    print('A function is created using the def keyword')"
   ]
  },
  {
   "cell_type": "code",
   "execution_count": 2,
   "id": "6841f322",
   "metadata": {},
   "outputs": [
    {
     "name": "stdout",
     "output_type": "stream",
     "text": [
      "A function is created using the def keyword\n"
     ]
    }
   ],
   "source": [
    "#a function is called by its name\n",
    "a_function()"
   ]
  },
  {
   "cell_type": "code",
   "execution_count": 3,
   "id": "64f7ea33",
   "metadata": {},
   "outputs": [],
   "source": [
    "# a function takes arguments\n",
    "def a_function(an_argument):\n",
    "    print(f'\\nthis function has an argument\\nThe argument passed was {an_argument}')"
   ]
  },
  {
   "cell_type": "code",
   "execution_count": 4,
   "id": "1bf0c064",
   "metadata": {},
   "outputs": [
    {
     "name": "stdout",
     "output_type": "stream",
     "text": [
      "\n",
      "this function has an argument\n",
      "The argument passed was 'this was the thing that is passed'\n"
     ]
    }
   ],
   "source": [
    "a_function(\"'this was the thing that is passed'\")"
   ]
  },
  {
   "cell_type": "code",
   "execution_count": 10,
   "id": "9ceab58f",
   "metadata": {},
   "outputs": [],
   "source": [
    "#functions can take more than one argument\n",
    "def a_function(argument1, argument2):\n",
    "    print(f\"\\nThis function has more that one argument\\nThe function will do something with both\\nthe first arg\"\n",
    "          f\" was '{argument1}' and the second was '{argument2}' using the + operator makes '{argument1 + argument2}'\")\n"
   ]
  },
  {
   "cell_type": "code",
   "execution_count": 11,
   "id": "21cf306d",
   "metadata": {},
   "outputs": [
    {
     "name": "stdout",
     "output_type": "stream",
     "text": [
      "\n",
      "This function has more that one argument\n",
      "The function will do something with both\n",
      "the first arg was 'one thing' and the second was 'another thing' using the + operator makes 'one thinganother thing'\n"
     ]
    }
   ],
   "source": [
    "a_function(\"one thing\",\"another thing\")"
   ]
  },
  {
   "cell_type": "code",
   "execution_count": 13,
   "id": "3968247f",
   "metadata": {},
   "outputs": [],
   "source": [
    "#functions can be called with the arguments named, this means you can call the function with arguents out of orfder\n",
    "def a_function(argument_one, argument_two, argument_three):\n",
    "    print(f\"argument 1 is {argument_one}, argument two is {argument_two} argument three is {argument_three}\")\n"
   ]
  },
  {
   "cell_type": "code",
   "execution_count": 14,
   "id": "4aa0531f",
   "metadata": {},
   "outputs": [
    {
     "name": "stdout",
     "output_type": "stream",
     "text": [
      "\n",
      "Calling the function with the arguments just in positions, can cause confusion :\n",
      "argument 1 is three, argument two is one argument three is 2\n",
      "but using named arguments can help: \n",
      "argument 1 is one, argument two is 2 argument three is three\n"
     ]
    }
   ],
   "source": [
    "#calling a_function without naned arguments\n",
    "print(\"\\nCalling the function with the arguments just in positions, can cause confusion :\")\n",
    "a_function('three', 'one', 2)\n",
    "print(\"but using named arguments can help: \")\n",
    "a_function(argument_three=\"three\", argument_one=\"one\", argument_two= 2)"
   ]
  },
  {
   "cell_type": "code",
   "execution_count": 15,
   "id": "78a522f2",
   "metadata": {},
   "outputs": [],
   "source": [
    "#a function can return something\n",
    "def a_function(thing, another_thing):\n",
    "    return (thing + another_thing)"
   ]
  },
  {
   "cell_type": "code",
   "execution_count": 16,
   "id": "946fdee8",
   "metadata": {},
   "outputs": [
    {
     "name": "stdout",
     "output_type": "stream",
     "text": [
      "\n",
      "Functions can return the result of an action\n",
      "Just be sure that you know what is being passed 3 + 4 = 7\n",
      "'3'+'4' = 34\n"
     ]
    }
   ],
   "source": [
    "print (f\"\\nFunctions can return the result of an action\\nJust be sure that you know what is being passed 3 + 4 = {a_function(3,4)}\\n\"\n",
    "       f\"'3'+'4' = {a_function('3','4')}\")"
   ]
  },
  {
   "cell_type": "code",
   "execution_count": 17,
   "id": "7be3c08e",
   "metadata": {},
   "outputs": [],
   "source": [
    "#a function can have a parameter that is also a function\n",
    "def small_function(arg1, arg2):\n",
    "    return arg1+arg2"
   ]
  },
  {
   "cell_type": "code",
   "execution_count": 18,
   "id": "f42f0542",
   "metadata": {},
   "outputs": [],
   "source": [
    "def a_function(thing_to_print):\n",
    "    return (thing_to_print)"
   ]
  },
  {
   "cell_type": "code",
   "execution_count": 19,
   "id": "a698eab6",
   "metadata": {},
   "outputs": [
    {
     "name": "stdout",
     "output_type": "stream",
     "text": [
      "\n",
      "In this example I am passing the result of one function as an argument to another function this thing\n"
     ]
    }
   ],
   "source": [
    "print(f\"\\nIn this example I am passing the result of one function as an argument to another function {a_function(small_function('this ','thing'))}\")\n",
    "\n"
   ]
  },
  {
   "cell_type": "code",
   "execution_count": null,
   "id": "63d6937a",
   "metadata": {},
   "outputs": [],
   "source": []
  }
 ],
 "metadata": {
  "kernelspec": {
   "display_name": "Python 3 (ipykernel)",
   "language": "python",
   "name": "python3"
  },
  "language_info": {
   "codemirror_mode": {
    "name": "ipython",
    "version": 3
   },
   "file_extension": ".py",
   "mimetype": "text/x-python",
   "name": "python",
   "nbconvert_exporter": "python",
   "pygments_lexer": "ipython3",
   "version": "3.9.7"
  }
 },
 "nbformat": 4,
 "nbformat_minor": 5
}
