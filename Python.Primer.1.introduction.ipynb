{
 "cells": [
  {
   "cell_type": "markdown",
   "id": "0c4d7396-90b0-4115-8416-8750bc617244",
   "metadata": {},
   "source": [
    "# Python Primer part 1\n",
    ">Phil Bridge philip.bridge@qa.com\n",
    "\n",
    "## Introduction\n",
    "So, programming, coding, what's it all about. Why do it, what's it's significance, why should you care. \n",
    "\n",
    "It's answered simply, you can beat the world using only your mind. In a world where every single thing has some compute processing underpinning what it does, unless you live in the woods and carve figurines for a living that is (but don't expect to sell them to anyone other than someone walking past you), then being in at the machinery end, knowing what it does, gives you the facility to shape that world. \n",
    "\n",
    "That's quite something isn't it. \n",
    "\n",
    "Have you ever been to a careers fair at school, who was there? Lawyers, civil servants, civil engineers, police, armed forces, scientists, fashion designers, artists, games designers? How many of them could do what they do without the ability to process information in ways that are meaningful, ways that are useful, ways that express profit. They couldn't, they all do those things through the engines of code, people who write code can build those engines, and people who are developers have the skills and passion to engineer solutions. Would you like to know if you are one of them. \n",
    "\n",
    "\n"
   ]
  },
  {
   "cell_type": "markdown",
   "id": "7eecaf9f-9242-4645-8c19-e9450adc8641",
   "metadata": {},
   "source": [
    "## Course outline\n",
    "If you just decided yes and you came into this section then welcome, good choice. Luckily I've got the opportunity to take you through some of the fundamentals in these workbooks and you can see if you like the ideas. \n",
    "\n",
    "This is the course outline, we will cover some very basic concepts, some of which I have no doubt you will know already, it's ok to skip those bits, but by all means have a read, you never know what new thing you may find.\n",
    "\n",
    "Within this short primer series we look at:\n",
    "- What is compute \n",
    "- What is a programming language\n",
    "- What is Python\n",
    "- What do we use to write Python\n",
    "- What is data in compute\n",
    "- What are operators to data\n",
    "- How do we get data in and out (I/O)\n",
    "- Collections of data\n",
    "- modularity \n",
    "- Testing, because you should\n",
    "- Store your work\n"
   ]
  },
  {
   "cell_type": "markdown",
   "id": "39c9821f-cba5-4d20-b2cb-a145862a662f",
   "metadata": {},
   "source": [
    "## Structure\n",
    "The course is built into a series of notebooks, this is one, it's Jupyter, it's mostly used for data science, machine learning, and prototyping. We will be using them as interactive learning workbooks, that you can use to reference throughout the engagement. \n",
    "\n",
    "There will be built in code snippets and suchlike that you can interact with and indeed, there will be challenges that you can try. \n",
    "\n",
    "The approach is scaffolding, which means one bit leads to the next and you use it to help answer questions and complete future tasks. \n",
    "\n",
    "You are not expected to engage with anything other than the code sections in the notebooks.\n",
    "\n",
    "Above all, I hope you enjoy your experience here. "
   ]
  },
  {
   "cell_type": "code",
   "execution_count": null,
   "id": "2bfd5ea6",
   "metadata": {},
   "outputs": [],
   "source": []
  }
 ],
 "metadata": {
  "kernelspec": {
   "display_name": "Python 3 (ipykernel)",
   "language": "python",
   "name": "python3"
  },
  "language_info": {
   "codemirror_mode": {
    "name": "ipython",
    "version": 3
   },
   "file_extension": ".py",
   "mimetype": "text/x-python",
   "name": "python",
   "nbconvert_exporter": "python",
   "pygments_lexer": "ipython3",
   "version": "3.10.10"
  }
 },
 "nbformat": 4,
 "nbformat_minor": 5
}
