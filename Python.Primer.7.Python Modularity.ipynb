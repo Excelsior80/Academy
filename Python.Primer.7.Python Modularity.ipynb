{
 "cells": [
  {
   "cell_type": "markdown",
   "id": "3708db5f",
   "metadata": {},
   "source": [
    "# Python Modularity\n",
    "\n",
    "## Introduction\n",
    "It is the case that in industry there are patterns and there are standards that are followed, they are there for a good set of reasons: \n",
    "- They make code efficient\n",
    "- They make the development process collaborative and succesful \n",
    "- They nmake code clean and easily maintainable\n",
    "- It makes code testable\n",
    "\n",
    "Without going into great depth, the main point that is relevant, if you are new or otherwisem is that these are ideals that you should strive for. The main principle we will look at in this section is writing code in a modular wat that implements something known as Single Responsibility (one thing does one thing)\n",
    "\n",
    "In software, the easiest way of developing in a modular way is by using functions. "
   ]
  },
  {
   "cell_type": "markdown",
   "id": "d1ad354c",
   "metadata": {},
   "source": [
    "## Functions\n",
    "\n",
    "Functions are a pattern that opntionally takes data and optionally returns value. As we will see, functions are central to the concept of modularity. \n",
    "\n",
    "In Python they are defined using the `def` keyword, then the name of the function followed by brackets where the data coming in will be referenced (note though that whatever is in the bracket, is only a name to python, the data that the function will use will be passed to that name when the function is called). The function then has a semi-colon to indicate to the interpreter that the following lines belong to this function. Underneath the colon AND INDENTED are the lines of code that will run when the function is called.\n",
    "\n",
    "Example:"
   ]
  },
  {
   "cell_type": "code",
   "execution_count": 1,
   "id": "29dcd5a1",
   "metadata": {},
   "outputs": [
    {
     "data": {
      "text/plain": [
       "6"
      ]
     },
     "execution_count": 1,
     "metadata": {},
     "output_type": "execute_result"
    }
   ],
   "source": [
    "#define a function with a name and the parameters it will use, return the result \n",
    "\n",
    "def my_add_function(number_one, number_two):\n",
    "    result = number_one + number_two\n",
    "    return result # return the result of adding these together\n",
    "\n",
    "my_add_function(3,3) # this is the function call\n"
   ]
  },
  {
   "cell_type": "markdown",
   "id": "18f70db3",
   "metadata": {},
   "source": [
    "What happened? we defined a function and gave it a name, my_add_function(), in the brackets we setup some memory space for two objects to arrive, speparated by a comma. \n",
    "We then defined what would happen when the dunction was called, in that the numbers were added together and asigned to a variable called result\n",
    "we then returned that value to the caller, in this case the result of adding two integers.\n",
    "\n"
   ]
  },
  {
   "cell_type": "markdown",
   "id": "e3f06a46",
   "metadata": {},
   "source": [
    "Refer to the functions.cheatsheet to see some more of the things that are important to fuctions.\n"
   ]
  },
  {
   "cell_type": "markdown",
   "id": "bc69a52b",
   "metadata": {},
   "source": [
    "## Modularity using functions \n",
    "\n",
    "The principle of modularity is that the code that is written to complete a task should be done in such a way that the structure will be a collection of functions of single responsibility. \n",
    "\n",
    "This promotes readability and maintenance, as well as reducing complexity and minimising reuse. \n",
    "\n",
    "The articulation is done by reflecting on the problem and then decomposing it to smaller tasks that solve that problem, putting that to a form that can be then approached one thing at a time.\n",
    "\n",
    "Take a look at the following code (it works, and there are a LOT better ways of doing this, but it's only an example)"
   ]
  },
  {
   "cell_type": "code",
   "execution_count": 7,
   "id": "29feef93",
   "metadata": {},
   "outputs": [
    {
     "name": "stdout",
     "output_type": "stream",
     "text": [
      "How many numbers are to be worked on (0 exits):0\n"
     ]
    }
   ],
   "source": [
    "while True:\n",
    "    number_of_numbers = int(input(\"How many numbers are to be worked on (0 exits):\"))\n",
    "    if number_of_numbers == 0:\n",
    "        break\n",
    "    operation = input(\"What operation is to be applied to the numbers:\\na) Add\"\n",
    "                      \"\\ns) Subtract (first number is the start)\\nd) Divide (first number is the start)\\n\"\n",
    "                      \"m) Multiply(first number is the start)\\nav) Average\\nq)quit\\n>> \")\n",
    "    print(number_of_numbers)\n",
    "    numbers = []\n",
    "    for seq in range(number_of_numbers):\n",
    "        numbers.append(float(input(\"Enter number : \")))\n",
    "\n",
    "    result = 0\n",
    "\n",
    "    if operation.lower() not in ['s','a','d','m','av']:\n",
    "        print('unknown operation')\n",
    "    elif operation.lower() == 'a':\n",
    "        for num in numbers:\n",
    "            result += num\n",
    "    elif operation.lower() == 's':\n",
    "        result = numbers[0]\n",
    "        for num in numbers[1:]:\n",
    "            result-=num\n",
    "    elif operation.lower() == 'd':\n",
    "        result = numbers[0]\n",
    "        for num in numbers[1:]:\n",
    "            result /= num\n",
    "    elif operation.lower() == 'm':\n",
    "        result = numbers[0]\n",
    "        for num in numbers[1:]:\n",
    "            result *= num\n",
    "    elif operation.lower() == 'av':\n",
    "        result = numbers[0]\n",
    "        for num in numbers[1:]:\n",
    "            result *= num\n",
    "            result = result / len(numbers)\n",
    "    elif operation.lower() == 'q':\n",
    "        break\n",
    "\n",
    "    print(f'The result of the operation is {result}')\n"
   ]
  },
  {
   "cell_type": "markdown",
   "id": "30cad895",
   "metadata": {},
   "source": [
    "### Refactored\n",
    "The concept of refactoring is a process where you look at the code that has been developed and determine if you can make it cleaner or more efficient. \n",
    "\n",
    "Doing that on that last block of code ends up with something like this."
   ]
  },
  {
   "cell_type": "code",
   "execution_count": 8,
   "id": "ea116706",
   "metadata": {},
   "outputs": [],
   "source": [
    "def add_series(numbers):\n",
    "    result = 0\n",
    "    for num in numbers:\n",
    "        result += num\n",
    "    return result\n",
    "\n",
    "def subtract_series(numbers):\n",
    "    result = numbers[0]\n",
    "    for num in numbers[1:]:\n",
    "        result -= num\n",
    "    return result\n",
    "\n",
    "def divide_series(numbers):\n",
    "    result = numbers[0]\n",
    "    for num in numbers[1:]:\n",
    "        result /= num\n",
    "    return result\n",
    "\n",
    "def multiply_series(numbers):\n",
    "    result = numbers[0]\n",
    "    for num in numbers[1:]:\n",
    "        result *= num\n",
    "    return result\n",
    "\n",
    "def average_series(numbers):\n",
    "    result = numbers[0]\n",
    "    for num in numbers[1:]:\n",
    "        result *= num\n",
    "        result = result / len(numbers)\n",
    "    return result\n",
    "\n",
    "def get_user_unput(message):\n",
    "    return input(message + ' ')\n",
    "\n",
    "def get_number_sequence():\n",
    "    sequence_size = int(get_user_unput(\"How many numbers in the sequence, 0 exits the calculator \"))\n",
    "    if sequence_size == 0:\n",
    "        return  None\n",
    "    else:\n",
    "        return [float(input('Enter number ')) for seq in range(sequence_size)]\n",
    "\n",
    "def process_sequence(number_sequence, operation):\n",
    "    while operation.lower() not in ['s','a','d','m','av']:\n",
    "            print('unknown operation')\n",
    "            operation = get_user_unput('What operation is jto be applied (a,s,d,m,av, or q for quit')\n",
    "    if operation.lower() == 'a':\n",
    "        return add_series(number_sequence)\n",
    "\n",
    "    elif operation.lower() == 's':\n",
    "        return subtract_series(number_sequence)\n",
    "\n",
    "    elif operation.lower() == 'd':\n",
    "        return divide_series(number_sequence)\n",
    "\n",
    "    elif operation.lower() == 'm':\n",
    "        return multiply_series(number_sequence)\n",
    "\n",
    "    elif operation.lower() == 'av':\n",
    "        return average_series(number_sequence)\n",
    "\n",
    "    elif operation.lower() == 'q':\n",
    "        return None\n",
    "\n",
    "\n",
    "def calculator():\n",
    "    while True:\n",
    "        numbers = get_number_sequence()\n",
    "        if numbers == None:\n",
    "            break\n",
    "        operation = get_user_unput(\"What operation is to be applied to the numbers:\\na) Add\"\n",
    "                          \"\\ns) Subtract (first number is the start)\\nd) Divide (first number is the start)\\n\"\n",
    "                          \"m) Multiply(first number is the start)\\nav) Average\\nq)quit\\n>> \")\n",
    "        if operation == 'q':\n",
    "            break\n",
    "        print(f'The result of the operation is {process_sequence(numbers, operation)}')\n"
   ]
  },
  {
   "cell_type": "markdown",
   "id": "f70be92b",
   "metadata": {},
   "source": [
    "### Refactor result\n",
    "As you can see the code got a bit longer in the process, but now everything is in small compartments of individual functionality. In doing so we could very easily add a process for say converting nto cartesian form or similar. Ideally the functions of the caluclator would reside in their own folder, this would be the next level of modular that again would assist in writing good clean code. \n",
    "\n",
    "For now though, it is clear that the functionality has been decomposed into it's constituent parts and as such aids readability, the last line of the calculator function, simply pnrints the results of the output of `process_sequence()` which in turn got it's values from two separate functions to get the data series and the operation required.\n",
    "\n",
    "Try it in the next cell"
   ]
  },
  {
   "cell_type": "code",
   "execution_count": 9,
   "id": "431db7d6",
   "metadata": {},
   "outputs": [
    {
     "name": "stdout",
     "output_type": "stream",
     "text": [
      "How many numbers in the sequence, 0 exits the calculator  0\n"
     ]
    }
   ],
   "source": [
    "calculator()"
   ]
  },
  {
   "cell_type": "code",
   "execution_count": null,
   "id": "a9ed58b1",
   "metadata": {},
   "outputs": [],
   "source": []
  }
 ],
 "metadata": {
  "kernelspec": {
   "display_name": "Python 3 (ipykernel)",
   "language": "python",
   "name": "python3"
  },
  "language_info": {
   "codemirror_mode": {
    "name": "ipython",
    "version": 3
   },
   "file_extension": ".py",
   "mimetype": "text/x-python",
   "name": "python",
   "nbconvert_exporter": "python",
   "pygments_lexer": "ipython3",
   "version": "3.9.7"
  }
 },
 "nbformat": 4,
 "nbformat_minor": 5
}
