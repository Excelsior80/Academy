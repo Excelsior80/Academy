{
 "cells": [
  {
   "cell_type": "markdown",
   "id": "27c6b41f-9744-4ad8-b1e0-7d99f5dfac79",
   "metadata": {},
   "source": [
    "# Python Primer 3 What is a programming language\n",
    " "
   ]
  },
  {
   "cell_type": "markdown",
   "id": "b1911c1b-05c2-4d85-a95a-ad0005c5757a",
   "metadata": {},
   "source": [
    "## What can a language do for us\n",
    "\n",
    "When we consider what a programming language can do for us, it's worth reflecting on why we would want one in the first place. \n",
    "\n",
    "Clearly the ability to perform work with data has been around since tally sticks were used to record and document numbers, quantities and messages. \n",
    "\n",
    "Compute really does do that and more at unimaginable scales. \n",
    "\n",
    "Compute gives us the facility to implement the processes by which we manipulate data, the process by which we tell compute to do that comes from instructions we give the element processing the data.\n",
    "\n",
    "- Instruction : an instruction is something we tell the system to do\n",
    "- Statement : instructions are expressed as a statement\n",
    "- multiple statements form an algorithm\n",
    "\n",
    "We write these statements and compose them into algorithms in order for them to solve problems. \n",
    "\n",
    "This is the essence of programming, putting things together to solve a problem.\n",
    "\n",
    "The way we write those instructions is articulated by using a language that the compute system will understand. \n",
    "\n",
    "The compute system works in binary\n",
    "\n",
    "Humans do not\n",
    "\n",
    "Therefore we need a programming language to get from human to compute, and back again. \n"
   ]
  },
  {
   "cell_type": "markdown",
   "id": "dad9ccfa-d939-418a-b1c7-e7c5ffc56c5d",
   "metadata": {},
   "source": [
    "## What does a development environment look like\n",
    "A development environment is somewhere where the instructions, statements, algorithms, and control can be written in order for the compute to solve the problem that is trying to be solved.\n",
    "\n",
    "A development environment can  be simple live interaction that talks directly to the infrastructure who's job it is to send instructions to the compute layer and get responses back in real time. Or it  can be more complex such that a lot of content can be put together and then run independently, indeed those environments offer the opportunity to check the code is going to work, and review it if it doesn't work(debug).\n",
    "\n",
    "Additionally, modern Integrated Development Environments are extensible, and can handle many different flavours of languages that end up as the compute instructions. They tend to offer additional tooling that is part of a wider development context, like interaction with version control systems, language specific rules and styles. To name but a few. \n",
    "\n",
    "Ultimately though, a programmer will write instructions, known as source code, and the infrastructure underneath the language will turn it into something the compute layer can work with.\n",
    "\n",
    "\n",
    "\n",
    "\n"
   ]
  },
  {
   "cell_type": "markdown",
   "id": "c4d1c16c-eb6c-436b-8283-070a405e2b2a",
   "metadata": {},
   "source": [
    "## what languages are out there\n",
    "There are many programming languages out in the wild, some more suited to certain tasks that others, some requiring more in-depth knowledge than others. Some strict, some not so strict, some highly performant, others not so. \n",
    "\n",
    "One of the essential differences though is that there are two main genres, compiled languages, and interpreted languages.\n",
    "\n",
    "### Compiled\n",
    "For compiled languages, there is an extensive process that is followed in order to produce something that can act, to a degree, independently, that is to say something that is executable, this can be on one machine or another, provided that the criteria for that executable to run is met. This would be things like what is the operating system, and does the architecture support the execution. \n",
    "\n",
    "Because the executables that come from the compilation process are in binary, they tend to be close to the compute layer, this makes them more performant as there is less activity needed to run an instruction than is needed by other approaches. However, as mentioned, there are limitations, not all executables run on all platforms. \n",
    "\n",
    "Languages like C, C++, C#, JAVA, and RUST are examples of compiled languages, note though that JAVA is not platform dependent, it compiles to something called bytecode that will run in something called a java virtual machine\n",
    "### Interpreted\n",
    "\n",
    "An interpreted language is one that takes source code only so far and then that first stage is capable of running on anything that can interpret it. This allows for source code to be written anywhere and executed on whichever platform is needed, provided that the platform has an interpreter that can turn it into something the compute layer can use.  Python, javascript these are examples of interpreted languages\n",
    "\n",
    "One of the major differences in this approach is that, while a compiled language can understand it's whole self at the time it is run, an interprested language, such as Python, will work one line at a time, and can only know something when it has been told about that thing. "
   ]
  },
  {
   "cell_type": "markdown",
   "id": "2a9f4abf",
   "metadata": {},
   "source": [
    "## An esential starting point\n",
    "\n",
    "Fundamentally, the idea of compute is to take data and perform operations on it so that it does something useful to that data or as a result of that data. The following is a simple line of code for adding two numbers and printing it. Run the code and see"
   ]
  },
  {
   "cell_type": "code",
   "execution_count": 1,
   "id": "65f3bd3f",
   "metadata": {},
   "outputs": [
    {
     "name": "stdout",
     "output_type": "stream",
     "text": [
      "11\n"
     ]
    }
   ],
   "source": [
    "print(10  +  1)"
   ]
  },
  {
   "cell_type": "markdown",
   "id": "47dbe96d",
   "metadata": {},
   "source": [
    "#### What just happened \n",
    "Two data elements, numeric types that are integers (whole numbers) were added together and the result was printed (output). Clearly this is a very static use case, never the less it is processing. More usually though, the intent is to work on data that changes, the following code snippet shows the process operating in a wider context:"
   ]
  },
  {
   "cell_type": "code",
   "execution_count": 6,
   "id": "fbb5a310",
   "metadata": {},
   "outputs": [
    {
     "name": "stdout",
     "output_type": "stream",
     "text": [
      "The number  0  when squared is 0\n",
      "The number  1  when squared is 1\n",
      "The number  2  when squared is 4\n",
      "The number  3  when squared is 9\n",
      "The number  4  when squared is 16\n",
      "The number  5  when squared is 25\n",
      "The number  6  when squared is 36\n",
      "The number  7  when squared is 49\n",
      "The number  8  when squared is 64\n",
      "The number  9  when squared is 81\n",
      "The number  10  when squared is 100\n",
      "The number  11  when squared is 121\n",
      "The number  12  when squared is 144\n",
      "The number  13  when squared is 169\n",
      "The number  14  when squared is 196\n",
      "The number  15  when squared is 225\n",
      "The number  16  when squared is 256\n",
      "The number  17  when squared is 289\n",
      "The number  18  when squared is 324\n",
      "The number  19  when squared is 361\n"
     ]
    }
   ],
   "source": [
    "for number in range(20):\n",
    "    number_squared = number**2\n",
    "    print(\"The number \",number,\" when squared is\",number_squared)"
   ]
  },
  {
   "cell_type": "markdown",
   "id": "271c6225",
   "metadata": {},
   "source": [
    "#### What just happened\n",
    "The three lines of code made a series of numbers starting at 0 and ending at 19, for each of those numbers the number is squared and reported as the square for that. Consider where that may be useful.\n",
    "\n",
    "Taking this a stage further, let's add some interactivity to the process and get the user to specify the power to raise the elements in the range to (you will have to supply the number in the box shown and press enter to submit it):"
   ]
  },
  {
   "cell_type": "code",
   "execution_count": 10,
   "id": "c59f6aba",
   "metadata": {},
   "outputs": [
    {
     "name": "stdout",
     "output_type": "stream",
     "text": [
      "What power should we raise the range to, (number only)3\n",
      "The number 0 When raised to the power of 3 is 0\n",
      "The number 1 When raised to the power of 3 is 1\n",
      "The number 2 When raised to the power of 3 is 8\n",
      "The number 3 When raised to the power of 3 is 27\n",
      "The number 4 When raised to the power of 3 is 64\n",
      "The number 5 When raised to the power of 3 is 125\n",
      "The number 6 When raised to the power of 3 is 216\n",
      "The number 7 When raised to the power of 3 is 343\n",
      "The number 8 When raised to the power of 3 is 512\n",
      "The number 9 When raised to the power of 3 is 729\n",
      "The number 10 When raised to the power of 3 is 1000\n",
      "The number 11 When raised to the power of 3 is 1331\n",
      "The number 12 When raised to the power of 3 is 1728\n",
      "The number 13 When raised to the power of 3 is 2197\n",
      "The number 14 When raised to the power of 3 is 2744\n",
      "The number 15 When raised to the power of 3 is 3375\n",
      "The number 16 When raised to the power of 3 is 4096\n",
      "The number 17 When raised to the power of 3 is 4913\n",
      "The number 18 When raised to the power of 3 is 5832\n",
      "The number 19 When raised to the power of 3 is 6859\n"
     ]
    }
   ],
   "source": [
    "power = int(input(\"What power should we raise the range to, (number only)\"))\n",
    "for number in range(20):\n",
    "    number_raised = number ** power\n",
    "    print(\"The number\", number, \"When raised to the power of\", power,\"is\",number_raised)"
   ]
  },
  {
   "cell_type": "markdown",
   "id": "0af9dda5",
   "metadata": {},
   "source": [
    "#### What just happened\n",
    "The first thing to happen was an instruction to take a value from the user (if you entered anything non-numeric then it would have broken things) and store it into a memeory space I called power. Then, for each of the numbers in the series the number was raised to the power of that input. \n",
    "\n",
    "As can be seen, we have started with a simple thing and by adding instructions to it we have increased it's functionality and usefulness. "
   ]
  },
  {
   "cell_type": "code",
   "execution_count": null,
   "id": "c108d631",
   "metadata": {},
   "outputs": [],
   "source": []
  }
 ],
 "metadata": {
  "kernelspec": {
   "display_name": "Python 3 (ipykernel)",
   "language": "python",
   "name": "python3"
  },
  "language_info": {
   "codemirror_mode": {
    "name": "ipython",
    "version": 3
   },
   "file_extension": ".py",
   "mimetype": "text/x-python",
   "name": "python",
   "nbconvert_exporter": "python",
   "pygments_lexer": "ipython3",
   "version": "3.9.7"
  }
 },
 "nbformat": 4,
 "nbformat_minor": 5
}
