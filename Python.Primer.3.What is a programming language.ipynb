{
 "cells": [
  {
   "cell_type": "markdown",
   "id": "27c6b41f-9744-4ad8-b1e0-7d99f5dfac79",
   "metadata": {},
   "source": [
    "# Python Primer 3 What is a programming language\n",
    " "
   ]
  },
  {
   "cell_type": "markdown",
   "id": "b1911c1b-05c2-4d85-a95a-ad0005c5757a",
   "metadata": {},
   "source": [
    "## What can a language do for us\n",
    "\n",
    "When we consider what a programming language can do for us, it's worth reflecting on why we would want one in the first place. \n",
    "\n",
    "Clearly the ability to perform work with data has been around since tally sticks were used to record and document numbers, quantities and messages. \n",
    "\n",
    "Compute really does do that and more at unimaginable scales. \n",
    "\n",
    "Compute gives us the facility to implement the processes by which we manipulate data, the process by which we tell compute to do that comes from instructions we give the element processing the data.\n",
    "\n",
    "- Instruction : an instruction is something we tell the system to do\n",
    "- Statement : instructions are expressed as a statement\n",
    "- multiple statements form an algorithm\n",
    "\n",
    "We write these statements and compose them into algorithms in order for them to solve problems. \n",
    "\n",
    "This is the essence of programming, putting things together to solve a problem.\n",
    "\n",
    "The way we write those instructions is articulated by using a language that the compute system will understand. \n",
    "\n",
    "The compute system works in binary\n",
    "\n",
    "Humans do not\n",
    "\n",
    "Therefore we need a programming language to get from human to compute, and back again. \n"
   ]
  },
  {
   "cell_type": "markdown",
   "id": "dad9ccfa-d939-418a-b1c7-e7c5ffc56c5d",
   "metadata": {},
   "source": [
    "## What does a development environment look like\n",
    "A development environment is somewhere where the instructions, statements, algorithms, and control can be written in order for the compute to solve the problem that is trying to be solved.\n",
    "\n",
    "A development environment can  be simple live interaction that talks directly to the infrastructure who's job it is to send instructions to the compute layer and get responses back in real time. Or it  can be more complex such that a lot of content can be put together and then run independently, indeed those environments offer the opportunity to check the code is going to work, and review it if it doesn't work(debug).\n",
    "\n",
    "Additionally, modern Integrated Development Environments are extensible, and can handle many different flavours of languages that end up as the compute instructions. They tend to offer additional tooling that is part of a wider development context, like interaction with version control systems, language specific rules and styles. To name but a few. \n",
    "\n",
    "Ultimately though, a programmer will write instructions, known as source code, and the infrastructure underneath the language will turn it into something the compute layer can work with.\n",
    "\n",
    "\n",
    "\n",
    "\n"
   ]
  },
  {
   "cell_type": "markdown",
   "id": "c4d1c16c-eb6c-436b-8283-070a405e2b2a",
   "metadata": {},
   "source": [
    "## what languages are out there\n",
    "There are many programming languages out in the wild, some more suited to certain tasks that others, some requiring more in-depth knowledge than others. Some strict, some not so strict, some highly performant, others not so. \n",
    "\n",
    "One of the essential differences though is that there are two main genres, compiled languages, and interpreted languages.\n",
    "\n",
    "### Compiled\n",
    "For compiled languages, there is an extensive process that is followed in order to produce something that can act, to a degree, independently, that is to say something that is executable, this can be on one machine or another, provided that the criteria for that executable to run is met. This would be things like what is the operating system, and does the architecture support the execution. \n",
    "\n",
    "Because the executables that come from the compilation process are in binary, they tend to be close to the compute layer, this makes them more performant as there is less activity needed to run an instruction than is needed by other approaches. However, as mentioned, there are limitations, not all executables run on all platforms. \n",
    "\n",
    "Languages like C, C++, C#, JAVA, and RUST are examples of compiled languages, note though that JAVA is not platform dependent, it compiles to something called bytecode that will run in something called a java virtual machine\n",
    "### Interpreted\n",
    "\n",
    "An interpreted language is one that takes source code only so far and then that first stage is capable of running on anything that can interpret it. This allows for source code to be written anywhere and executed on whichever platform is needed, provided that the platform has an interpreter that can turn it into something the compute layer can use.  Python, javascript these are examples of interpreted languages\n",
    "\n",
    "One of the major differences in this approach is that, while a compiled language can understand it's whole self at the time it is run, an interprested language, such as Python, will work one line at a time, and can only know something when it has been told about that thing. "
   ]
  }
 ],
 "metadata": {
  "kernelspec": {
   "display_name": "anaconda-2022.05-py39",
   "language": "python",
   "name": "conda-env-anaconda-2022.05-py39-py"
  },
  "language_info": {
   "codemirror_mode": {
    "name": "ipython",
    "version": 3
   },
   "file_extension": ".py",
   "mimetype": "text/x-python",
   "name": "python",
   "nbconvert_exporter": "python",
   "pygments_lexer": "ipython3",
   "version": "3.9.12"
  }
 },
 "nbformat": 4,
 "nbformat_minor": 5
}
