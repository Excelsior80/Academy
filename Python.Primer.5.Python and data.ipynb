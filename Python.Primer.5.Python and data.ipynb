{
 "cells": [
  {
   "cell_type": "markdown",
   "id": "4c715216-b548-4b2e-90d2-3824fb825940",
   "metadata": {},
   "source": [
    "# Python and working with Data"
   ]
  },
  {
   "cell_type": "markdown",
   "id": "0b8b70dc-6e89-478f-a23f-efcca8696626",
   "metadata": {},
   "source": [
    "## Introduction\n",
    "\n",
    "In this section we begin to look at how python, and other programming languages, look at, interpret, and work with data.\n",
    "- We will start by asking what data is\n",
    "- How it is expressed in forms such as statements\n",
    "- How we can interact with data using operators\n",
    "- How we can supply data to the compute layer and how we can get data back\n",
    "- We will look at something called data type and understand it's relevance \n",
    "- Finally we will look at some useful constructs in Python that can contain data and apply functionality to it.\n"
   ]
  },
  {
   "cell_type": "markdown",
   "id": "9a347174-bbe1-4262-8a0d-addf66dadf63",
   "metadata": {},
   "source": [
    "## What is data\n",
    "\n",
    "Data, as far as a computer is concerned is a series of electrical signals that are either there or not there. That doesn't mean too much to us though, we don't think in binary. Those signals will only mean anything if we tell the processor what it's supposed to mean, for example \n",
    "\n",
    "01000001 is a series of binary values that can mean the letter 'A' or the number 65 depending on what we tell the computer it means "
   ]
  },
  {
   "cell_type": "code",
   "execution_count": 6,
   "id": "bd259aed-6bb9-4b4b-8ed5-67bd1e0c7fe5",
   "metadata": {},
   "outputs": [
    {
     "name": "stdout",
     "output_type": "stream",
     "text": [
      "the sequence 01000001 as a decimal value is 65\n",
      "the sequence 01000001 as a character value is A\n"
     ]
    }
   ],
   "source": [
    "# Example of data in two ways \n",
    "data = '01000001'\n",
    "#whats that as a number\n",
    "print(f\"the sequence {data} as a decimal value is {int('0b'+data, 2)}\")\n",
    "print(f\"the sequence {data} as a character value is {chr(int('0b'+data, 2))}\")"
   ]
  },
  {
   "cell_type": "markdown",
   "id": "897328f8-ec0e-4639-a7d0-a38fe9c993e6",
   "metadata": {},
   "source": [
    "## Data Types\n",
    "\n",
    "What you have experienced is the idea of Types, these are the fundamental units of all computing, a single piece of data, of a given type, is termed a scalar. It helps for us to know what data types there are because they are useful in different contexts, for example if I have a whole number eg 10 then as a whole number, known as integer, with a value, I can add or subtract from it. "
   ]
  },
  {
   "cell_type": "code",
   "execution_count": 8,
   "id": "f8166b95-ebed-42e0-819e-c7744ac89532",
   "metadata": {},
   "outputs": [
    {
     "name": "stdout",
     "output_type": "stream",
     "text": [
      "The result of 10 - 1 is 9\n"
     ]
    }
   ],
   "source": [
    "number = 10\n",
    "new_number = number - 1\n",
    "print(f\"The result of {number} - 1 is {new_number}\")"
   ]
  },
  {
   "cell_type": "markdown",
   "id": "3599a9d2-5c75-4df5-b60b-9857d300cbfa",
   "metadata": {},
   "source": [
    "Well, that's pretty well understood, we had a data type that is of type int (integer) and because it is in that form, and the computer knows it is in that form, I can numerically work on it. \n",
    "\n",
    "You can determine what a data type is in python by using a function called type() *You can tell its a function because it's got the parentheses after it*\n",
    "\n",
    "Example : "
   ]
  },
  {
   "cell_type": "code",
   "execution_count": 10,
   "id": "59456faf-c153-48fb-9528-5f65164560ca",
   "metadata": {},
   "outputs": [
    {
     "name": "stdout",
     "output_type": "stream",
     "text": [
      "<class 'int'>\n"
     ]
    }
   ],
   "source": [
    "print(type(new_number))\n"
   ]
  },
  {
   "cell_type": "markdown",
   "id": "1bf9988e-ad6f-461c-9c20-06543dade0c8",
   "metadata": {},
   "source": [
    "### What happened\n",
    "In the code example I passed something that was made in the previous code block called new_number as what is known as a parameter to a function called type.\n",
    "It's the job of the function `type()` to look at the thing in the brackets and print out what the computer sees that type as.\n",
    "Out of interest the names that were used, they were arbitrary, I could have called them bill and ben, instead of `number` and `new_number`, the results were the result of a mathematical operation on a data type int. The result was a new value that was stored in a space in memory that I called new_number.\n",
    "\n",
    "For us to be able to see the result of the `type(new_number)` I had to pass it to another function `print()` which happily puts the thing that came out of the `type()` function onto the line outside the cell, the output was `<class 'int'>`\n",
    "\n",
    "That meant the the data type for the binary value that is stored in a memory location that I called new_number is an int (don't worry about class for the moment). \n"
   ]
  },
  {
   "cell_type": "markdown",
   "id": "40445566-4600-4585-ad65-474e584aabb7",
   "metadata": {
    "tags": []
   },
   "source": [
    "### Ex-1 Working with data"
   ]
  },
  {
   "cell_type": "code",
   "execution_count": 17,
   "id": "0d334f26-3410-4647-b1a4-801cfe1ba54f",
   "metadata": {},
   "outputs": [
    {
     "ename": "NameError",
     "evalue": "name '_get_parts' is not defined",
     "output_type": "error",
     "traceback": [
      "\u001b[0;31m---------------------------------------------------------------------------\u001b[0m",
      "\u001b[0;31mNameError\u001b[0m                                 Traceback (most recent call last)",
      "Input \u001b[0;32mIn [17]\u001b[0m, in \u001b[0;36m<cell line: 2>\u001b[0;34m()\u001b[0m\n\u001b[1;32m      1\u001b[0m \u001b[38;5;28;01mfrom\u001b[39;00m \u001b[38;5;21;01mTester\u001b[39;00m \u001b[38;5;28;01mimport\u001b[39;00m Tester\n\u001b[0;32m----> 2\u001b[0m session \u001b[38;5;241m=\u001b[39m \u001b[43mTester\u001b[49m\u001b[43m(\u001b[49m\u001b[43m)\u001b[49m\n",
      "File \u001b[0;32m~/Personal_research/Tester.py:6\u001b[0m, in \u001b[0;36m__init__\u001b[0;34m(self)\u001b[0m\n\u001b[1;32m      4\u001b[0m def __init__(self):\n\u001b[1;32m      5\u001b[0m     self._tests = []  #list of questions at startup\n\u001b[0;32m----> 6\u001b[0m     self._load_tests() \n\u001b[1;32m      7\u001b[0m     \n\u001b[1;32m      8\u001b[0m \n",
      "File \u001b[0;32m~/Personal_research/Tester.py:11\u001b[0m, in \u001b[0;36m_load_tests\u001b[0;34m(self)\u001b[0m\n\u001b[1;32m      9\u001b[0m def _load_tests(self):\n\u001b[1;32m     10\u001b[0m     for test in tests:\n\u001b[0;32m---> 11\u001b[0m         self._tests.append(_test(test))\n\u001b[1;32m     12\u001b[0m         \n\u001b[1;32m     13\u001b[0m     \n",
      "File \u001b[0;32m~/Personal_research/Tester.py:28\u001b[0m, in \u001b[0;36m__init__\u001b[0;34m(self, test)\u001b[0m\n\u001b[1;32m     26\u001b[0m     self.test_number = test['test_number']\n\u001b[1;32m     27\u001b[0m     self.question = test['question']\n\u001b[0;32m---> 28\u001b[0m     self.parts = _get_parts(test)\n\u001b[1;32m     29\u001b[0m     \n\u001b[1;32m     30\u001b[0m def _get_parts(self, test):\n",
      "\u001b[0;31mNameError\u001b[0m: name '_get_parts' is not defined"
     ]
    }
   ],
   "source": [
    "from Tester import Tester\n",
    "session = Tester()"
   ]
  },
  {
   "cell_type": "markdown",
   "id": "5776c2e9-5763-4aa4-8196-8e25d465e27e",
   "metadata": {},
   "source": [
    "## Statements with Python"
   ]
  },
  {
   "cell_type": "markdown",
   "id": "7f073f77-74f2-4677-92ed-e3f329733a1b",
   "metadata": {},
   "source": [
    "### Ex-2 Working with statements"
   ]
  },
  {
   "cell_type": "markdown",
   "id": "100633a0-77da-458e-8cb5-c5d817d2bad0",
   "metadata": {},
   "source": [
    "## Operators"
   ]
  },
  {
   "cell_type": "markdown",
   "id": "1b409a49-57b3-4ca4-963d-b00571c90981",
   "metadata": {},
   "source": [
    "### Ex-3 Working with simple statements"
   ]
  },
  {
   "cell_type": "markdown",
   "id": "24540f47-15c4-4695-9a73-2fcbd5276e7f",
   "metadata": {},
   "source": [
    "## Working with Input and Output"
   ]
  },
  {
   "cell_type": "markdown",
   "id": "7685c8f2-4390-492f-9c76-193e38e1f833",
   "metadata": {},
   "source": [
    "### Ex-4 Working with inputs and outputs"
   ]
  },
  {
   "cell_type": "markdown",
   "id": "7213c62b-13f0-4d6b-90db-f0afbbe8a9e6",
   "metadata": {},
   "source": [
    "## Data Containers"
   ]
  },
  {
   "cell_type": "code",
   "execution_count": null,
   "id": "c3335c2b-520f-433a-afbc-69234bb0b388",
   "metadata": {},
   "outputs": [],
   "source": []
  }
 ],
 "metadata": {
  "kernelspec": {
   "display_name": "anaconda-2022.05-py39",
   "language": "python",
   "name": "conda-env-anaconda-2022.05-py39-py"
  },
  "language_info": {
   "codemirror_mode": {
    "name": "ipython",
    "version": 3
   },
   "file_extension": ".py",
   "mimetype": "text/x-python",
   "name": "python",
   "nbconvert_exporter": "python",
   "pygments_lexer": "ipython3",
   "version": "3.9.12"
  }
 },
 "nbformat": 4,
 "nbformat_minor": 5
}
