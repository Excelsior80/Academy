{
 "cells": [
  {
   "cell_type": "markdown",
   "id": "4c715216-b548-4b2e-90d2-3824fb825940",
   "metadata": {},
   "source": [
    "# Python and working with Data"
   ]
  },
  {
   "cell_type": "markdown",
   "id": "0b8b70dc-6e89-478f-a23f-efcca8696626",
   "metadata": {},
   "source": [
    "## Introduction\n",
    "\n",
    "In this section we begin to look at how python, and other programming languages, look at, interpret, and work with data.\n",
    "- We will start by asking what data is\n",
    "- How it is expressed in forms such as statements\n",
    "- How we can interact with data using operators\n",
    "- How we can supply data to the compute layer and how we can get data back\n",
    "- We will look at something called data type and understand it's relevance \n",
    "- Finally we will look at some useful constructs in Python that can contain data and apply functionality to it.\n"
   ]
  },
  {
   "cell_type": "markdown",
   "id": "9a347174-bbe1-4262-8a0d-addf66dadf63",
   "metadata": {},
   "source": [
    "## What is data\n",
    "\n",
    "Data, as far as a computer is concerned is a series of electrical signals that are either there or not there. That doesn't mean too much to us though, we don't think in binary. Those signals will only mean anything if we tell the processor what it's supposed to mean, for example \n",
    "\n",
    "01000001 is a series of binary values that can mean the letter 'A' or the number 65 depending on what we tell the computer it means "
   ]
  },
  {
   "cell_type": "code",
   "execution_count": 6,
   "id": "bd259aed-6bb9-4b4b-8ed5-67bd1e0c7fe5",
   "metadata": {},
   "outputs": [
    {
     "name": "stdout",
     "output_type": "stream",
     "text": [
      "the sequence 01000001 as a decimal value is 65\n",
      "the sequence 01000001 as a character value is A\n"
     ]
    }
   ],
   "source": [
    "# Example of data in two ways \n",
    "data = '01000001'\n",
    "#whats that as a number\n",
    "print(f\"the sequence {data} as a decimal value is {int('0b'+data, 2)}\")\n",
    "print(f\"the sequence {data} as a character value is {chr(int('0b'+data, 2))}\")"
   ]
  },
  {
   "cell_type": "markdown",
   "id": "897328f8-ec0e-4639-a7d0-a38fe9c993e6",
   "metadata": {},
   "source": [
    "## Data Types\n",
    "\n",
    "What you have experienced is the idea of Types, these are the fundamental units of all computing, a single piece of data, of a given type, is termed a scalar. It helps for us to know what data types there are because they are useful in different contexts, for example if I have a whole number eg 10 then as a whole number, known as integer, with a value, I can add or subtract from it. "
   ]
  },
  {
   "cell_type": "code",
   "execution_count": 8,
   "id": "f8166b95-ebed-42e0-819e-c7744ac89532",
   "metadata": {},
   "outputs": [
    {
     "name": "stdout",
     "output_type": "stream",
     "text": [
      "The result of 10 - 1 is 9\n"
     ]
    }
   ],
   "source": [
    "number = 10\n",
    "new_number = number - 1\n",
    "print(f\"The result of {number} - 1 is {new_number}\")"
   ]
  },
  {
   "cell_type": "markdown",
   "id": "3599a9d2-5c75-4df5-b60b-9857d300cbfa",
   "metadata": {},
   "source": [
    "Well, that's pretty well understood, we had a data type that is of type int (integer) and because it is in that form, and the computer knows it is in that form, I can numerically work on it. \n",
    "\n",
    "You can determine what a data type is in python by using a function called type() *You can tell its a function because it's got the parentheses after it*\n",
    "\n",
    "Example : "
   ]
  },
  {
   "cell_type": "code",
   "execution_count": 10,
   "id": "59456faf-c153-48fb-9528-5f65164560ca",
   "metadata": {},
   "outputs": [
    {
     "name": "stdout",
     "output_type": "stream",
     "text": [
      "<class 'int'>\n"
     ]
    }
   ],
   "source": [
    "print(type(new_number))\n"
   ]
  },
  {
   "cell_type": "markdown",
   "id": "1bf9988e-ad6f-461c-9c20-06543dade0c8",
   "metadata": {},
   "source": [
    "### What happened\n",
    "In the code example I passed something that was made in the previous code block called new_number as what is known as a parameter to a function called type.\n",
    "It's the job of the function `type()` to look at the thing in the brackets and print out what the computer sees that type as.\n",
    "Out of interest the names that were used, they were arbitrary, I could have called them bill and ben, instead of `number` and `new_number`, the results were the result of a mathematical operation on a data type int. The result was a new value that was stored in a space in memory that I called new_number.\n",
    "\n",
    "For us to be able to see the result of the `type(new_number)` I had to pass it to another function `print()` which happily puts the thing that came out of the `type()` function onto the line outside the cell, the output was `<class 'int'>`\n",
    "\n",
    "That meant the the data type for the binary value that is stored in a memory location that I called new_number is an int (don't worry about class for the moment). \n"
   ]
  },
  {
   "cell_type": "markdown",
   "id": "40445566-4600-4585-ad65-474e584aabb7",
   "metadata": {
    "tags": []
   },
   "source": [
    "### Ex-1 Working with data"
   ]
  },
  {
   "cell_type": "code",
   "execution_count": 1,
   "id": "0d334f26-3410-4647-b1a4-801cfe1ba54f",
   "metadata": {},
   "outputs": [],
   "source": [
    "from Tester import Tester\n",
    "session = Tester()\n",
    "\n",
    "session.run_test('001')"
   ]
  },
  {
   "cell_type": "markdown",
   "id": "229c2aa6",
   "metadata": {},
   "source": [
    "## Changing types\n",
    "Python is a language that can dynamically infer what type of data is being given to it from the nature of that data.\n",
    "From the exercise you should be able to ask the interpreter what type it sees some data as, however, data in it's origicnal form may not suit our needs, for example, an integer value (int) is not a string (str), but the `print()` function needs a string to print however run the next cell see what happens: \n"
   ]
  },
  {
   "cell_type": "code",
   "execution_count": 53,
   "id": "b5996ec6",
   "metadata": {},
   "outputs": [
    {
     "name": "stdout",
     "output_type": "stream",
     "text": [
      "5\n"
     ]
    }
   ],
   "source": [
    "#here's a number\n",
    "number = 5\n",
    "# prove it \n",
    "type(number)\n",
    "#print it \n",
    "print(number)\n",
    "\n",
    "#oh"
   ]
  },
  {
   "cell_type": "markdown",
   "id": "983d3808",
   "metadata": {},
   "source": [
    "What happened? Well print does indeed nees a string and number is not a string type, what has happened is that when print ran, it asked number if it could represent itself as string by calling a special method in int called `__str__` and the response was a string version of number. All good. \n",
    "Except, where we may have something like the following:"
   ]
  },
  {
   "cell_type": "code",
   "execution_count": 55,
   "id": "76714f40",
   "metadata": {},
   "outputs": [
    {
     "name": "stdout",
     "output_type": "stream",
     "text": [
      "Give me a number3\n",
      "The type of number is <class 'str'> and the type of number_to_add is <class 'int'> lets try and print the sum\n"
     ]
    },
    {
     "ename": "TypeError",
     "evalue": "can only concatenate str (not \"int\") to str",
     "output_type": "error",
     "traceback": [
      "\u001b[1;31m---------------------------------------------------------------------------\u001b[0m",
      "\u001b[1;31mTypeError\u001b[0m                                 Traceback (most recent call last)",
      "\u001b[1;32m~\\AppData\\Local\\Temp/ipykernel_6652/3580928747.py\u001b[0m in \u001b[0;36m<module>\u001b[1;34m\u001b[0m\n\u001b[0;32m      3\u001b[0m \u001b[0mnumber_to_add\u001b[0m \u001b[1;33m=\u001b[0m \u001b[1;36m5\u001b[0m\u001b[1;33m\u001b[0m\u001b[1;33m\u001b[0m\u001b[0m\n\u001b[0;32m      4\u001b[0m \u001b[0mprint\u001b[0m\u001b[1;33m(\u001b[0m\u001b[1;34mf\"The type of number is {type(number)} and the type of number_to_add is {type(number_to_add)} lets try and print the sum\"\u001b[0m\u001b[1;33m)\u001b[0m\u001b[1;33m\u001b[0m\u001b[1;33m\u001b[0m\u001b[0m\n\u001b[1;32m----> 5\u001b[1;33m \u001b[0mprint\u001b[0m\u001b[1;33m(\u001b[0m\u001b[0mnumber\u001b[0m \u001b[1;33m+\u001b[0m \u001b[0mnumber_to_add\u001b[0m\u001b[1;33m)\u001b[0m\u001b[1;33m\u001b[0m\u001b[1;33m\u001b[0m\u001b[0m\n\u001b[0m",
      "\u001b[1;31mTypeError\u001b[0m: can only concatenate str (not \"int\") to str"
     ]
    }
   ],
   "source": [
    "#get a number from the user\n",
    "number = input(\"Give me a number\")\n",
    "number_to_add = 5\n",
    "print(f\"The type of number is {type(number)} and the type of number_to_add is {type(number_to_add)} lets try and print the sum\")\n",
    "print(number + number_to_add)"
   ]
  },
  {
   "cell_type": "markdown",
   "id": "b23b708f",
   "metadata": {},
   "source": [
    "What happened? Well the first thing to note is that it's complaining about the Type with a TypeError and the last line is telling you what the actual problem is. However, it's telling you that it cannot concatonate string and integer, (concatonate is a string operation where two strings are jammed together) and so the interpreter is confused as to what you want. \n",
    "\n",
    "If you wanted to add them (yes we did) then we need to bring the data into the same domain for that to happen, in this case it's a numeric operation so that's what we will do.\n",
    "\n",
    "The process by which this happens is known as type casting and thats where we change a scalar from one type to another let's see that last operation again with casting"
   ]
  },
  {
   "cell_type": "code",
   "execution_count": 56,
   "id": "4095987e",
   "metadata": {},
   "outputs": [
    {
     "name": "stdout",
     "output_type": "stream",
     "text": [
      "Give me a number4\n",
      "The type of number is <class 'str'> and the type of number_to_add is <class 'int'> we cant add this\n",
      "The type of number is <class 'int'> and the type of number_to_add is <class 'int'> let's add this\n",
      "9\n"
     ]
    }
   ],
   "source": [
    "#get a number from the user\n",
    "number = input(\"Give me a number\")\n",
    "number_to_add = 5\n",
    "print(f\"The type of number is {type(number)} and the type of number_to_add is {type(number_to_add)} we cant add this\")\n",
    "number = int(number) # Here we change the type from string (thats what input gives us back) to int and assign it back to number\n",
    "print(f\"After the cast the type of number is {type(number)} and the type of number_to_add is {type(number_to_add)} let's add this\")\n",
    "print(number + number_to_add)"
   ]
  },
  {
   "cell_type": "markdown",
   "id": "ef3a87af",
   "metadata": {},
   "source": [
    "Great that worked, but how did print manage to print 9, that's a number, simple, because it is a number it has `__str__` in there that can return the string value. \n",
    "\n",
    "Review the casting "
   ]
  },
  {
   "cell_type": "code",
   "execution_count": null,
   "id": "49eacf93",
   "metadata": {},
   "outputs": [],
   "source": [
    "#TODO plumb in exercises"
   ]
  },
  {
   "cell_type": "markdown",
   "id": "5776c2e9-5763-4aa4-8196-8e25d465e27e",
   "metadata": {},
   "source": [
    "## Statements with Python\n",
    "\n",
    "Statements in python are lines of code that perform some action, such as assigning value to a variable, looping over a set of values, or calling a function. It is a complete instruction that the interpreter can execute in isolation. \n",
    "\n",
    "For Python, closing a statement is done when a newline is put at the end of it. \n"
   ]
  },
  {
   "cell_type": "markdown",
   "id": "7f073f77-74f2-4677-92ed-e3f329733a1b",
   "metadata": {},
   "source": [
    "### Ex-2 Working with statements"
   ]
  },
  {
   "cell_type": "code",
   "execution_count": null,
   "id": "f4bb93e0",
   "metadata": {},
   "outputs": [],
   "source": [
    "session.run_test('002')"
   ]
  },
  {
   "cell_type": "markdown",
   "id": "100633a0-77da-458e-8cb5-c5d817d2bad0",
   "metadata": {},
   "source": [
    "## Operators\n",
    "\n",
    "IN computer languages we use operators that operate on the units of data, the standard operators, from a mathematical context include:\n",
    "- brackets  ()\n",
    "- orders  <sup>2</sup> <sup>3</sup>\n",
    "- Division /\n",
    "- Multiplication *\n",
    "- Addition +\n",
    "- Subtracton -\n",
    "\n",
    "however this is a small set of the operators that are available, additionally as we will see in a short while, some of these operators behave differently depending on the type of data they are working on. \n",
    "\n",
    "Lets try the ones above first and see the results"
   ]
  },
  {
   "cell_type": "markdown",
   "id": "1b409a49-57b3-4ca4-963d-b00571c90981",
   "metadata": {},
   "source": [
    "### Ex-3 Working with simple statements"
   ]
  },
  {
   "cell_type": "code",
   "execution_count": 2,
   "id": "1e508247",
   "metadata": {},
   "outputs": [
    {
     "ename": "AttributeError",
     "evalue": "'Tester' object has no attribute 'run_test'",
     "output_type": "error",
     "traceback": [
      "\u001b[1;31m---------------------------------------------------------------------------\u001b[0m",
      "\u001b[1;31mAttributeError\u001b[0m                            Traceback (most recent call last)",
      "\u001b[1;32m~\\AppData\\Local\\Temp/ipykernel_6652/1742710888.py\u001b[0m in \u001b[0;36m<module>\u001b[1;34m\u001b[0m\n\u001b[1;32m----> 1\u001b[1;33m \u001b[0msession\u001b[0m\u001b[1;33m.\u001b[0m\u001b[0mrun_test\u001b[0m\u001b[1;33m(\u001b[0m\u001b[1;34m'003'\u001b[0m\u001b[1;33m)\u001b[0m\u001b[1;33m\u001b[0m\u001b[1;33m\u001b[0m\u001b[0m\n\u001b[0m",
      "\u001b[1;31mAttributeError\u001b[0m: 'Tester' object has no attribute 'run_test'"
     ]
    }
   ],
   "source": [
    "session.run_test('003')\n"
   ]
  },
  {
   "cell_type": "markdown",
   "id": "5fa455a9",
   "metadata": {},
   "source": [
    "## Type specific methods \n",
    "Each of the types so far looked at has it's own methods (functions) that are appropriate to it. If we wanted to know what they were we could examine the type using a function called dir()\n",
    "\n",
    "Run the next cell to see what is available for int"
   ]
  },
  {
   "cell_type": "code",
   "execution_count": 52,
   "id": "02bfa8bb",
   "metadata": {},
   "outputs": [
    {
     "data": {
      "text/plain": [
       "['__abs__',\n",
       " '__add__',\n",
       " '__and__',\n",
       " '__bool__',\n",
       " '__ceil__',\n",
       " '__class__',\n",
       " '__delattr__',\n",
       " '__dir__',\n",
       " '__divmod__',\n",
       " '__doc__',\n",
       " '__eq__',\n",
       " '__float__',\n",
       " '__floor__',\n",
       " '__floordiv__',\n",
       " '__format__',\n",
       " '__ge__',\n",
       " '__getattribute__',\n",
       " '__getnewargs__',\n",
       " '__gt__',\n",
       " '__hash__',\n",
       " '__index__',\n",
       " '__init__',\n",
       " '__init_subclass__',\n",
       " '__int__',\n",
       " '__invert__',\n",
       " '__le__',\n",
       " '__lshift__',\n",
       " '__lt__',\n",
       " '__mod__',\n",
       " '__mul__',\n",
       " '__ne__',\n",
       " '__neg__',\n",
       " '__new__',\n",
       " '__or__',\n",
       " '__pos__',\n",
       " '__pow__',\n",
       " '__radd__',\n",
       " '__rand__',\n",
       " '__rdivmod__',\n",
       " '__reduce__',\n",
       " '__reduce_ex__',\n",
       " '__repr__',\n",
       " '__rfloordiv__',\n",
       " '__rlshift__',\n",
       " '__rmod__',\n",
       " '__rmul__',\n",
       " '__ror__',\n",
       " '__round__',\n",
       " '__rpow__',\n",
       " '__rrshift__',\n",
       " '__rshift__',\n",
       " '__rsub__',\n",
       " '__rtruediv__',\n",
       " '__rxor__',\n",
       " '__setattr__',\n",
       " '__sizeof__',\n",
       " '__str__',\n",
       " '__sub__',\n",
       " '__subclasshook__',\n",
       " '__truediv__',\n",
       " '__trunc__',\n",
       " '__xor__',\n",
       " 'as_integer_ratio',\n",
       " 'bit_length',\n",
       " 'conjugate',\n",
       " 'denominator',\n",
       " 'from_bytes',\n",
       " 'imag',\n",
       " 'numerator',\n",
       " 'real',\n",
       " 'to_bytes']"
      ]
     },
     "execution_count": 52,
     "metadata": {},
     "output_type": "execute_result"
    }
   ],
   "source": [
    "dir(int)"
   ]
  },
  {
   "cell_type": "markdown",
   "id": "dd4b4dde",
   "metadata": {},
   "source": [
    "What happened? dir(int) produced an output of methods some of which had leading and lagging __ for example `__str__` , these are special methods and we will not look at those. However if we print an integer, it uses `__str__` to send back a string representation of itself (more on strings in a second)\n",
    "\n",
    "The public methods are those that have no underscores. For example `as_integer_ratio`. To access those we need to have a data object of type int, if we put a `.` after it (dot accessor) we can access these public methods. Run the next cell"
   ]
  },
  {
   "cell_type": "code",
   "execution_count": 16,
   "id": "6bbfe314",
   "metadata": {},
   "outputs": [
    {
     "name": "stdout",
     "output_type": "stream",
     "text": [
      "Help on built-in function as_integer_ratio:\n",
      "\n",
      "as_integer_ratio() method of builtins.int instance\n",
      "    Return integer ratio.\n",
      "    \n",
      "    Return a pair of integers, whose ratio is exactly equal to the original int\n",
      "    and with a positive denominator.\n",
      "    \n",
      "    >>> (10).as_integer_ratio()\n",
      "    (10, 1)\n",
      "    >>> (-10).as_integer_ratio()\n",
      "    (-10, 1)\n",
      "    >>> (0).as_integer_ratio()\n",
      "    (0, 1)\n",
      "\n"
     ]
    }
   ],
   "source": [
    "number = 15\n",
    "help(number.as_integer_ratio)"
   ]
  },
  {
   "cell_type": "markdown",
   "id": "09f22ffb",
   "metadata": {},
   "source": [
    "Notice that it returns two values separated by a comma which actually are (numerator, denominator)  run the next cell"
   ]
  },
  {
   "cell_type": "code",
   "execution_count": 17,
   "id": "5899e02a",
   "metadata": {},
   "outputs": [
    {
     "data": {
      "text/plain": [
       "(5, 2)"
      ]
     },
     "execution_count": 17,
     "metadata": {},
     "output_type": "execute_result"
    }
   ],
   "source": [
    "number = 2.5\n",
    "number.as_integer_ratio()"
   ]
  },
  {
   "cell_type": "markdown",
   "id": "cada2535",
   "metadata": {},
   "source": [
    "Now let's try the same with string (str) use dir() and help() to find the public methods, can you convert the string in the next cell to all lower case letters?"
   ]
  },
  {
   "cell_type": "code",
   "execution_count": 18,
   "id": "e1445889",
   "metadata": {},
   "outputs": [],
   "source": [
    "test_string = 'IM ALL UPPER BUT HUMILITY SAYS I SHOULD BE ALL LOWER'\n",
    "# find out about test_string using dir()\n",
    "\n",
    "# use help() to find documentation on any of the public methods that may look like they could do the job\n",
    "\n",
    "# test your assertions to see if you found the correct method to lower the capitals. \n",
    "\n",
    "# Bonus point, can you assign the result back to test_string run the next cell to test if you got it right\n"
   ]
  },
  {
   "cell_type": "code",
   "execution_count": 19,
   "id": "8eba517e",
   "metadata": {},
   "outputs": [
    {
     "name": "stdout",
     "output_type": "stream",
     "text": [
      "not quite, there are one or more caps in IM ALL UPPER BUT HUMILITY SAYS I SHOULD BE ALL LOWER\n"
     ]
    }
   ],
   "source": [
    "# Only if you did the bonus point \n",
    "if test_string.islower():\n",
    "    print(f\"Well done \\n{test_string} is all lower\")\n",
    "    \n",
    "else:\n",
    "    print(f\"not quite, there are one or more caps in {test_string}\")"
   ]
  },
  {
   "cell_type": "markdown",
   "id": "f3afc246",
   "metadata": {},
   "source": [
    "### Note on strings\n",
    "Strings are a avery widely used data type, this is because it's ahuman readable way of getting data in and out of the compute layer. As such, you will have seen that there is an extensive set of methods attached to the type. This is best viewed when working with inputs and outputs"
   ]
  },
  {
   "cell_type": "markdown",
   "id": "24540f47-15c4-4695-9a73-2fcbd5276e7f",
   "metadata": {},
   "source": [
    "## Working with Input and Output\n",
    "As previously mentioned, the ability to put things into the compute layer and then get something meaningful out of the processing it does is pretty fundamental.\n",
    "\n",
    "Broadly, people accept that text in and out is the standard way of doing this, that is correct to an extent, but what about a TV remote control, that has compute and the inputs are the buttons on it. The Output is an inra-red communications pattern to the TV, the TV in turn has an infra-red input that it decodes to translate into things like change the channel. \n",
    "\n",
    "For now though let's focus on that standard approach. \n",
    "\n",
    "All languages have some method of input and output, the default being keyboard for import and screen for output. This is articulated in python with two  functions: \n",
    "`input()`\n",
    "`print()`\n",
    "\n",
    "Although we haven't covered functions in detail, the input() function will get something off the user and hands it out to a variable as a string. Note that input() can accept a string in the brackets which it uses as a prompt\n",
    "\n",
    "print() takes a string and prints it to the screen.\n",
    "\n",
    "Run the next cell as an example"
   ]
  },
  {
   "cell_type": "code",
   "execution_count": 28,
   "id": "504d7e4c",
   "metadata": {},
   "outputs": [
    {
     "name": "stdout",
     "output_type": "stream",
     "text": [
      "You are the user, type something F\n",
      "The data type passed to the variable thing_the_user_types is <class 'str'> \n",
      "and it's value which is in the memory location called thing_the_user_types is F\n"
     ]
    }
   ],
   "source": [
    "thing_the_user_types = input(\"You are the user, type something \")\n",
    "print(f'''The data type passed to the variable thing_the_user_types is {type(thing_the_user_types)} \\nand it's value which is in the memory location called thing_the_user_types is {thing_the_user_types}''')"
   ]
  },
  {
   "cell_type": "markdown",
   "id": "7685c8f2-4390-492f-9c76-193e38e1f833",
   "metadata": {},
   "source": [
    "### Ex-4 Working with inputs and outputs"
   ]
  },
  {
   "cell_type": "markdown",
   "id": "7213c62b-13f0-4d6b-90db-f0afbbe8a9e6",
   "metadata": {},
   "source": [
    "## Data Containers"
   ]
  },
  {
   "cell_type": "markdown",
   "id": "299f8b16",
   "metadata": {},
   "source": [
    "Having looked at some of the data types it's very useful to reviewsome of the containers that are available, in Python these are extremely feature rich and highly useful.\n",
    "The container types we will review are :\n",
    "- Lists\n",
    "- Dictionaries\n",
    "- Sets\n"
   ]
  },
  {
   "cell_type": "markdown",
   "id": "18cb73f1",
   "metadata": {},
   "source": [
    "## Lists\n",
    "In python a list is a collection of data types that are stored as a sequence. This is also known as an array in other languages. In python the list can contain whatever data types python supports. \n",
    "A list can be declared as empty and then items appended to it, or  it can be created with items in it. \n",
    "\n",
    "run the next cell\n"
   ]
  },
  {
   "cell_type": "code",
   "execution_count": 32,
   "id": "c993ec7e",
   "metadata": {},
   "outputs": [
    {
     "name": "stdout",
     "output_type": "stream",
     "text": [
      "[]\n",
      "[10, 'phil', 33.33, 'coffee']\n",
      "[100, 10, 2, 5, 6]\n"
     ]
    }
   ],
   "source": [
    "empty_list = []\n",
    "list_with_things = [10,'phil', 33.33, 'coffee']\n",
    "another_way_of_making_list = list((100,10,2,5,6))\n",
    "\n",
    "print(empty_list)\n",
    "\n",
    "print(list_with_things)\n",
    "\n",
    "print(another_way_of_making_list)"
   ]
  },
  {
   "cell_type": "markdown",
   "id": "315724e7",
   "metadata": {},
   "source": [
    "### useful things list can do \n",
    "As for the data types lists have their own methods that make them useful \n",
    "run the next cell"
   ]
  },
  {
   "cell_type": "code",
   "execution_count": 33,
   "id": "d94fa298",
   "metadata": {
    "scrolled": true
   },
   "outputs": [
    {
     "data": {
      "text/plain": [
       "['__add__',\n",
       " '__class__',\n",
       " '__class_getitem__',\n",
       " '__contains__',\n",
       " '__delattr__',\n",
       " '__delitem__',\n",
       " '__dir__',\n",
       " '__doc__',\n",
       " '__eq__',\n",
       " '__format__',\n",
       " '__ge__',\n",
       " '__getattribute__',\n",
       " '__getitem__',\n",
       " '__gt__',\n",
       " '__hash__',\n",
       " '__iadd__',\n",
       " '__imul__',\n",
       " '__init__',\n",
       " '__init_subclass__',\n",
       " '__iter__',\n",
       " '__le__',\n",
       " '__len__',\n",
       " '__lt__',\n",
       " '__mul__',\n",
       " '__ne__',\n",
       " '__new__',\n",
       " '__reduce__',\n",
       " '__reduce_ex__',\n",
       " '__repr__',\n",
       " '__reversed__',\n",
       " '__rmul__',\n",
       " '__setattr__',\n",
       " '__setitem__',\n",
       " '__sizeof__',\n",
       " '__str__',\n",
       " '__subclasshook__',\n",
       " 'append',\n",
       " 'clear',\n",
       " 'copy',\n",
       " 'count',\n",
       " 'extend',\n",
       " 'index',\n",
       " 'insert',\n",
       " 'pop',\n",
       " 'remove',\n",
       " 'reverse',\n",
       " 'sort']"
      ]
     },
     "execution_count": 33,
     "metadata": {},
     "output_type": "execute_result"
    }
   ],
   "source": [
    "dir(list_with_things)"
   ]
  },
  {
   "cell_type": "markdown",
   "id": "0dcc384a",
   "metadata": {},
   "source": [
    "From the list the public facing methods include control over the container, for example: \n",
    "- append() will add an item to the list \n",
    "- clear() clears a list \n",
    "- extend() appends one list to another\n",
    "- insert() puts a new item into the list \n",
    "- pop() removes the last item but makes the item available (can be assigned to a variable)\n",
    "- sort() a useful and configurable way of sorting the items in the list\n",
    "\n",
    "A fuller list of functionality is available in the list.Cheatsheet notebook\n",
    "\n",
    "For now the useful elements of this container are the ability to search, sort, and develop new structures:\n"
   ]
  },
  {
   "cell_type": "markdown",
   "id": "f6718c98",
   "metadata": {},
   "source": [
    "## A note on string as a collection\n",
    "Just one point on the string type, a string is a collection of characters that make up the string as such, there are SOME activities that are common, to prove this point look at the next cell, it has a string but then we can loop through the elements of the string : "
   ]
  },
  {
   "cell_type": "code",
   "execution_count": 34,
   "id": "62fc026f",
   "metadata": {},
   "outputs": [
    {
     "name": "stdout",
     "output_type": "stream",
     "text": [
      "T\n",
      "h\n",
      "i\n",
      "s\n",
      " \n",
      "i\n",
      "s\n",
      " \n",
      "m\n",
      "y\n",
      " \n",
      "l\n",
      "i\n",
      "n\n",
      "e\n",
      " \n",
      "o\n",
      "f\n",
      " \n",
      "t\n",
      "e\n",
      "x\n",
      "t\n"
     ]
    }
   ],
   "source": [
    "my_string = \"This is my line of text\"\n",
    "\n",
    "for character in my_string:\n",
    "    print(character)"
   ]
  },
  {
   "cell_type": "markdown",
   "id": "cda491e4",
   "metadata": {},
   "source": [
    "As can be seen, each of the characters are separate things within the string. Note though, as we will see, this does not mean that a string can be changed as a list may."
   ]
  },
  {
   "cell_type": "markdown",
   "id": "0bd34eeb",
   "metadata": {},
   "source": [
    "## Dictionaries\n",
    "Dictionaries in python are otherwise known as hashmaps in other languages. Their concept is pretty simple, unline the list type where we can reference elements in it by their position, in a dictionary we lookup values by a key that is assigned to it. \n",
    "For this to work, under normal condiditions, the keys in a dictionary object must be unique. \n",
    "This then means that  a dictionary is made up of key:value pairs. Lets observe it:"
   ]
  },
  {
   "cell_type": "code",
   "execution_count": 43,
   "id": "1f9e8867",
   "metadata": {},
   "outputs": [
    {
     "name": "stdout",
     "output_type": "stream",
     "text": [
      "Phil\n"
     ]
    }
   ],
   "source": [
    "#A dictionary type \n",
    "my_dictionary = {} #an empty dictionary is declared\n",
    "my_dictionary['name'] = 'Phil' # an element with the key name is added with the value Phil\n",
    "print(my_dictionary['name']) # the value that is in the dictionary element with the key name is printed\n"
   ]
  },
  {
   "cell_type": "code",
   "execution_count": 45,
   "id": "bb8d938e",
   "metadata": {},
   "outputs": [
    {
     "data": {
      "text/plain": [
       "['__class__',\n",
       " '__class_getitem__',\n",
       " '__contains__',\n",
       " '__delattr__',\n",
       " '__delitem__',\n",
       " '__dir__',\n",
       " '__doc__',\n",
       " '__eq__',\n",
       " '__format__',\n",
       " '__ge__',\n",
       " '__getattribute__',\n",
       " '__getitem__',\n",
       " '__gt__',\n",
       " '__hash__',\n",
       " '__init__',\n",
       " '__init_subclass__',\n",
       " '__ior__',\n",
       " '__iter__',\n",
       " '__le__',\n",
       " '__len__',\n",
       " '__lt__',\n",
       " '__ne__',\n",
       " '__new__',\n",
       " '__or__',\n",
       " '__reduce__',\n",
       " '__reduce_ex__',\n",
       " '__repr__',\n",
       " '__reversed__',\n",
       " '__ror__',\n",
       " '__setattr__',\n",
       " '__setitem__',\n",
       " '__sizeof__',\n",
       " '__str__',\n",
       " '__subclasshook__',\n",
       " 'clear',\n",
       " 'copy',\n",
       " 'fromkeys',\n",
       " 'get',\n",
       " 'items',\n",
       " 'keys',\n",
       " 'pop',\n",
       " 'popitem',\n",
       " 'setdefault',\n",
       " 'update',\n",
       " 'values']"
      ]
     },
     "execution_count": 45,
     "metadata": {},
     "output_type": "execute_result"
    }
   ],
   "source": [
    "#review of methods\n",
    "dir(my_dictionary)"
   ]
  },
  {
   "cell_type": "markdown",
   "id": "71711864",
   "metadata": {},
   "source": [
    "### more complex dictionary\n",
    "In the example above there is a simple empty dictionary that is created. We can put whatever python supports into the value position, that can include lists, or indeed other dictionaries, in either case if you want to work with the content then you would need to be aware of the structures in it.\n"
   ]
  },
  {
   "cell_type": "code",
   "execution_count": 39,
   "id": "50b822d1",
   "metadata": {},
   "outputs": [
    {
     "name": "stdout",
     "output_type": "stream",
     "text": [
      "first_names\n",
      "joe sarah millie \n",
      "last_names\n",
      "clark bennet richardson \n",
      "jobs\n",
      "clerk manager tech lead \n"
     ]
    }
   ],
   "source": [
    "#complex dictionary:\n",
    "my_complex_dictionary = {'first_names': ['joe', 'sarah', 'millie'], 'last_names': ['clark', 'bennet', 'richardson'], 'jobs': ['clerk', 'manager', 'tech lead']}\n",
    "\n",
    "# iterating through the dictionary the first way\n",
    "for key, value in my_complex_dictionary.items():\n",
    "    print(key)\n",
    "    for val in value:\n",
    "        print(f\"{val} \", end='')\n",
    "    print('')\n"
   ]
  },
  {
   "cell_type": "code",
   "execution_count": 40,
   "id": "3a9cbc13",
   "metadata": {},
   "outputs": [
    {
     "name": "stdout",
     "output_type": "stream",
     "text": [
      "first_names\n",
      "joe sarah millie \n",
      "last_names\n",
      "clark bennet richardson \n",
      "jobs\n",
      "clerk manager tech lead \n"
     ]
    }
   ],
   "source": [
    "#iterating through the dictionary the second way\n",
    "for key in my_complex_dictionary.keys():\n",
    "    print(key)\n",
    "    for val in my_complex_dictionary[key]:\n",
    "        print(f\"{val} \", end='')\n",
    "    print('')"
   ]
  },
  {
   "cell_type": "code",
   "execution_count": 41,
   "id": "d9089286",
   "metadata": {},
   "outputs": [
    {
     "name": "stdout",
     "output_type": "stream",
     "text": [
      "dict_keys(['first_names', 'last_names', 'jobs'])\n",
      "dict_values([['joe', 'sarah', 'millie'], ['clark', 'bennet', 'richardson'], ['clerk', 'manager', 'tech lead']])\n"
     ]
    }
   ],
   "source": [
    "print(my_complex_dictionary.keys())\n",
    "print(my_complex_dictionary.values())"
   ]
  },
  {
   "cell_type": "markdown",
   "id": "dfb4adba",
   "metadata": {},
   "source": [
    "A fuller list of functionality is available in the dictionaries.Cheatsheet notebook. "
   ]
  },
  {
   "attachments": {
    "image.png": {
     "image/png": "[encoded data removed]"
    }
   },
   "cell_type": "markdown",
   "id": "664f6d17",
   "metadata": {},
   "source": [
    "## Sets \n",
    "Sets are another useful container type. They follow the same rules as venn diagrams, in that they are groups of unique data that express exclusivity and inclusivity over multiple sets. \n",
    "\n",
    "Here is an example \n",
    "\n",
    "![image.png](attachment:image.png)"
   ]
  },
  {
   "cell_type": "code",
   "execution_count": 42,
   "id": "bada7726",
   "metadata": {},
   "outputs": [],
   "source": [
    "front_end = {'Arthur', 'Aoife', 'Peter', 'Maisy', 'John'}\n",
    "back_end = {'Callum', 'Aoife', 'Peter', 'Maisy'}\n",
    "dev_ops = {'John', 'Maisy'}\n"
   ]
  },
  {
   "cell_type": "markdown",
   "id": "98354ae1",
   "metadata": {},
   "source": [
    "Notice that the structure is similar to the python container Dictionary, however there are no key:value pairs, just individual elements in each set. \n",
    "\n",
    "Determining if there are commonalities or exclusivities is a  function of the set container type, review of the methods"
   ]
  },
  {
   "cell_type": "code",
   "execution_count": 46,
   "id": "aae483df",
   "metadata": {
    "scrolled": true
   },
   "outputs": [
    {
     "data": {
      "text/plain": [
       "['__and__',\n",
       " '__class__',\n",
       " '__class_getitem__',\n",
       " '__contains__',\n",
       " '__delattr__',\n",
       " '__dir__',\n",
       " '__doc__',\n",
       " '__eq__',\n",
       " '__format__',\n",
       " '__ge__',\n",
       " '__getattribute__',\n",
       " '__gt__',\n",
       " '__hash__',\n",
       " '__iand__',\n",
       " '__init__',\n",
       " '__init_subclass__',\n",
       " '__ior__',\n",
       " '__isub__',\n",
       " '__iter__',\n",
       " '__ixor__',\n",
       " '__le__',\n",
       " '__len__',\n",
       " '__lt__',\n",
       " '__ne__',\n",
       " '__new__',\n",
       " '__or__',\n",
       " '__rand__',\n",
       " '__reduce__',\n",
       " '__reduce_ex__',\n",
       " '__repr__',\n",
       " '__ror__',\n",
       " '__rsub__',\n",
       " '__rxor__',\n",
       " '__setattr__',\n",
       " '__sizeof__',\n",
       " '__str__',\n",
       " '__sub__',\n",
       " '__subclasshook__',\n",
       " '__xor__',\n",
       " 'add',\n",
       " 'clear',\n",
       " 'copy',\n",
       " 'difference',\n",
       " 'difference_update',\n",
       " 'discard',\n",
       " 'intersection',\n",
       " 'intersection_update',\n",
       " 'isdisjoint',\n",
       " 'issubset',\n",
       " 'issuperset',\n",
       " 'pop',\n",
       " 'remove',\n",
       " 'symmetric_difference',\n",
       " 'symmetric_difference_update',\n",
       " 'union',\n",
       " 'update']"
      ]
     },
     "execution_count": 46,
     "metadata": {},
     "output_type": "execute_result"
    }
   ],
   "source": [
    "dir(front_end)"
   ]
  },
  {
   "cell_type": "code",
   "execution_count": 47,
   "id": "73042ab0",
   "metadata": {},
   "outputs": [
    {
     "data": {
      "text/plain": [
       "{'Aoife', 'Maisy', 'Peter'}"
      ]
     },
     "execution_count": 47,
     "metadata": {},
     "output_type": "execute_result"
    }
   ],
   "source": [
    "# whos a front end and back end dev\n",
    "front_end.intersection(back_end)"
   ]
  },
  {
   "cell_type": "code",
   "execution_count": 48,
   "id": "ab027021",
   "metadata": {},
   "outputs": [
    {
     "data": {
      "text/plain": [
       "{'Aoife', 'Maisy', 'Peter'}"
      ]
     },
     "execution_count": 48,
     "metadata": {},
     "output_type": "execute_result"
    }
   ],
   "source": [
    "# who's a back end dev and dev ops\n",
    "back_end.intersection(front_end)"
   ]
  },
  {
   "cell_type": "code",
   "execution_count": 49,
   "id": "a7f09fce",
   "metadata": {},
   "outputs": [
    {
     "data": {
      "text/plain": [
       "{'Aoife', 'Arthur', 'Callum', 'Peter'}"
      ]
     },
     "execution_count": 49,
     "metadata": {},
     "output_type": "execute_result"
    }
   ],
   "source": [
    "# who's front end or back end but not devops\n",
    "front_end.union(back_end).difference(dev_ops)"
   ]
  },
  {
   "cell_type": "code",
   "execution_count": 50,
   "id": "c240d485",
   "metadata": {},
   "outputs": [
    {
     "data": {
      "text/plain": [
       "{'Arthur', 'Callum', 'John'}"
      ]
     },
     "execution_count": 50,
     "metadata": {},
     "output_type": "execute_result"
    }
   ],
   "source": [
    "# who is only a single domain dev \n",
    "front_end.symmetric_difference(back_end)"
   ]
  },
  {
   "cell_type": "code",
   "execution_count": 51,
   "id": "8596114c",
   "metadata": {},
   "outputs": [
    {
     "name": "stdout",
     "output_type": "stream",
     "text": [
      "['Berlin', 'London', 'Frankfurt', 'Paris', 'Berlin', 'Amsterdam', 'Dusseldorf', 'London']\n",
      "['Paris', 'Frankfurt', 'Amsterdam', 'Berlin', 'London', 'Dusseldorf']\n"
     ]
    }
   ],
   "source": [
    "# Power hack \n",
    "# Given I have a list with duplicated data, how do I make a list of unique data\n",
    "start_list = [\"Berlin\", \"London\", \"Frankfurt\", \"Paris\", \"Berlin\", \"Amsterdam\", \"Dusseldorf\", \"London\"]\n",
    "unique_list = list(set(start_list))\n",
    "\n",
    "print(start_list)\n",
    "print(unique_list)"
   ]
  },
  {
   "cell_type": "code",
   "execution_count": null,
   "id": "2e3f801f",
   "metadata": {},
   "outputs": [],
   "source": []
  }
 ],
 "metadata": {
  "kernelspec": {
   "display_name": "Python 3 (ipykernel)",
   "language": "python",
   "name": "python3"
  },
  "language_info": {
   "codemirror_mode": {
    "name": "ipython",
    "version": 3
   },
   "file_extension": ".py",
   "mimetype": "text/x-python",
   "name": "python",
   "nbconvert_exporter": "python",
   "pygments_lexer": "ipython3",
   "version": "3.9.7"
  }
 },
 "nbformat": 4,
 "nbformat_minor": 5
}
