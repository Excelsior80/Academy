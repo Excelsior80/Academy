{
 "cells": [
  {
   "cell_type": "markdown",
   "id": "3d10d821",
   "metadata": {},
   "source": [
    "# Dictionary Cheatsheet \n",
    "\n",
    "The following are examples of dictionary use.\n"
   ]
  },
  {
   "cell_type": "code",
   "execution_count": 18,
   "id": "8b98bc30",
   "metadata": {},
   "outputs": [],
   "source": [
    "#admin cell please just run it \n",
    "def console(message):\n",
    "    print(message)\n",
    "\n",
    "\n"
   ]
  },
  {
   "cell_type": "code",
   "execution_count": 19,
   "id": "8b483f9a",
   "metadata": {},
   "outputs": [
    {
     "name": "stdout",
     "output_type": "stream",
     "text": [
      "The dictionary is initialised either with data or with an empty construct {}\n",
      "{}\n",
      "Or with data, in a key : value \n",
      "{'name': 'phil', 'employee_number': 12441, 'role': 'team lead'}\n"
     ]
    }
   ],
   "source": [
    "console(\"The dictionary is initialised either with data or with an empty construct {}\")\n",
    "basic_dict = {}\n",
    "\n",
    "console(basic_dict)\n",
    "\n",
    "console(\"Or with data, in a key : value \")\n",
    "\n",
    "basic_dict = {\"name\": \"phil\", \"employee_number\": 12441, \"role\": \"team lead\"}\n",
    "\n",
    "console(basic_dict)\n"
   ]
  },
  {
   "cell_type": "code",
   "execution_count": 20,
   "id": "cbd6adb6",
   "metadata": {},
   "outputs": [
    {
     "name": "stdout",
     "output_type": "stream",
     "text": [
      "Can address the value any of the elements dict[key]\n",
      "phil\n"
     ]
    }
   ],
   "source": [
    "console(\"Can address the value any of the elements dict[key]\")\n",
    "console(basic_dict['name'])"
   ]
  },
  {
   "cell_type": "code",
   "execution_count": 21,
   "id": "91f3ebdb",
   "metadata": {},
   "outputs": [
    {
     "name": "stdout",
     "output_type": "stream",
     "text": [
      "Can iterate through the dictionary, first by iterating the keys\n",
      "phil\n",
      "12441\n",
      "team lead\n"
     ]
    }
   ],
   "source": [
    "console(\"Can iterate through the dictionary, first by iterating the keys\")\n",
    "for k in basic_dict:\n",
    "    console(basic_dict[k])"
   ]
  },
  {
   "cell_type": "code",
   "execution_count": 22,
   "id": "2664288d",
   "metadata": {},
   "outputs": [
    {
     "name": "stdout",
     "output_type": "stream",
     "text": [
      "Can look at the values by calling the .items() method, note that this is in a list as a return\n",
      "dict_items([('name', 'phil'), ('employee_number', 12441), ('role', 'team lead')])\n"
     ]
    }
   ],
   "source": [
    "console(\"Can look at the values by calling the .items() method, note that this is in a list as a return\")\n",
    "console(basic_dict.items())"
   ]
  },
  {
   "cell_type": "code",
   "execution_count": 23,
   "id": "d7e6156e",
   "metadata": {},
   "outputs": [
    {
     "name": "stdout",
     "output_type": "stream",
     "text": [
      "Also can iterate through that, note that the responses are tuples\n",
      "('name', 'phil')\n",
      "('employee_number', 12441)\n",
      "('role', 'team lead')\n"
     ]
    }
   ],
   "source": [
    "console(\"Also can iterate through that, note that the responses are tuples\")\n",
    "for item in basic_dict.items():\n",
    "    console(item)"
   ]
  },
  {
   "cell_type": "code",
   "execution_count": 24,
   "id": "3a64f239",
   "metadata": {},
   "outputs": [
    {
     "name": "stdout",
     "output_type": "stream",
     "text": [
      "Can also separate these into key value through the items() method\n",
      "name -> phil\n",
      "employee_number -> 12441\n",
      "role -> team lead\n"
     ]
    }
   ],
   "source": [
    "console(\"Can also separate these into key value through the items() method\")\n",
    "for ke, value in basic_dict.items():\n",
    "    console(f\"{ke} -> {value}\")"
   ]
  },
  {
   "cell_type": "code",
   "execution_count": 25,
   "id": "67b9aa9d",
   "metadata": {},
   "outputs": [
    {
     "name": "stdout",
     "output_type": "stream",
     "text": [
      "Can add to the dictionary with a key reference and a value dict[key]=value\n",
      "{'name': 'phil', 'employee_number': 12441, 'role': 'team lead', 'service': 10}\n"
     ]
    }
   ],
   "source": [
    "#adding things to the dict can be done by adding a key with a value\n",
    "console(\"Can add to the dictionary with a key reference and a value dict[key]=value\")\n",
    "basic_dict[\"service\"] = 10\n",
    "console(basic_dict)\n"
   ]
  },
  {
   "cell_type": "code",
   "execution_count": 26,
   "id": "3f610f57",
   "metadata": {},
   "outputs": [
    {
     "name": "stdout",
     "output_type": "stream",
     "text": [
      "{'name': 'phil', 'employee_number': 12441, 'role': 'team lead', 'service': 10, 'drinks': 'coffee'}\n"
     ]
    }
   ],
   "source": [
    "#additionally use the update() method in list\n",
    "basic_dict.update({\"drinks\": \"coffee\"})\n",
    "console(basic_dict)\n"
   ]
  },
  {
   "cell_type": "code",
   "execution_count": null,
   "id": "1fef7961",
   "metadata": {},
   "outputs": [],
   "source": []
  }
 ],
 "metadata": {
  "kernelspec": {
   "display_name": "Python 3 (ipykernel)",
   "language": "python",
   "name": "python3"
  },
  "language_info": {
   "codemirror_mode": {
    "name": "ipython",
    "version": 3
   },
   "file_extension": ".py",
   "mimetype": "text/x-python",
   "name": "python",
   "nbconvert_exporter": "python",
   "pygments_lexer": "ipython3",
   "version": "3.9.7"
  }
 },
 "nbformat": 4,
 "nbformat_minor": 5
}
